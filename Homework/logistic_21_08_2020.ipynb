{
 "cells": [
  {
   "cell_type": "markdown",
   "metadata": {},
   "source": [
    "# Logistic Regression"
   ]
  },
  {
   "cell_type": "code",
   "execution_count": null,
   "metadata": {},
   "outputs": [],
   "source": [
    "import warnings\n",
    "warnings.filterwarnings('ignore')"
   ]
  },
  {
   "cell_type": "code",
   "execution_count": null,
   "metadata": {},
   "outputs": [],
   "source": [
    "from sklearn.datasets import load_iris\n",
    "from sklearn.linear_model import LogisticRegression\n",
    "X, y = load_iris(return_X_y=True)\n",
    "clf = LogisticRegression(random_state=0).fit(X, y)"
   ]
  },
  {
   "cell_type": "code",
   "execution_count": null,
   "metadata": {},
   "outputs": [],
   "source": [
    "clf.predict(X[:2, :])"
   ]
  },
  {
   "cell_type": "code",
   "execution_count": null,
   "metadata": {},
   "outputs": [],
   "source": [
    "clf.predict_proba(X[:2, :])"
   ]
  },
  {
   "cell_type": "code",
   "execution_count": null,
   "metadata": {},
   "outputs": [],
   "source": [
    "clf.score(X, y)"
   ]
  },
  {
   "cell_type": "markdown",
   "metadata": {},
   "source": [
    "# Confusion Matrix"
   ]
  },
  {
   "cell_type": "code",
   "execution_count": null,
   "metadata": {},
   "outputs": [],
   "source": [
    "from sklearn.metrics import confusion_matrix"
   ]
  },
  {
   "cell_type": "code",
   "execution_count": null,
   "metadata": {},
   "outputs": [],
   "source": [
    "confusion_matrix(y, clf.predict(X))"
   ]
  },
  {
   "cell_type": "code",
   "execution_count": null,
   "metadata": {},
   "outputs": [],
   "source": [
    "confusion_matrix(y, clf.predict(X), normalize='true')"
   ]
  },
  {
   "cell_type": "code",
   "execution_count": null,
   "metadata": {},
   "outputs": [],
   "source": [
    "i"
   ]
  },
  {
   "cell_type": "markdown",
   "metadata": {},
   "source": [
    "# 1. Solve classification problem using 'classification.csv' dataset"
   ]
  },
  {
   "cell_type": "markdown",
   "metadata": {},
   "source": [
    "##### target variable is 'default'. Apply feature selection, feature scaling, cross validation etc. (anything you think is needed)"
   ]
  },
  {
   "cell_type": "code",
   "execution_count": 139,
   "metadata": {},
   "outputs": [],
   "source": [
    "import pandas as pd\n",
    "from sklearn.model_selection import train_test_split"
   ]
  },
  {
   "cell_type": "code",
   "execution_count": 169,
   "metadata": {},
   "outputs": [],
   "source": [
    "data=pd.read_csv(\"classification.csv\")\n",
    "y=data['default']\n",
    "data_x=pd.get_dummies(data[data.columns.difference(['default'])])\n"
   ]
  },
  {
   "cell_type": "code",
   "execution_count": 180,
   "metadata": {},
   "outputs": [],
   "source": [
    "#seperate 15 rows by hand for test\n",
    "data_hand=data_x[data_x.index%50==0].copy() #x-s\n",
    "y_hand=y[y.index%50==0].copy() #y-s"
   ]
  },
  {
   "cell_type": "code",
   "execution_count": 90,
   "metadata": {},
   "outputs": [],
   "source": [
    "from sklearn.model_selection import cross_val_score, cross_val_predict"
   ]
  },
  {
   "cell_type": "code",
   "execution_count": 182,
   "metadata": {},
   "outputs": [
    {
     "data": {
      "text/plain": [
       "(array([[474,  43],\n",
       "        [ 91,  92]], dtype=int64),\n",
       " array([[7, 2],\n",
       "        [3, 2]], dtype=int64))"
      ]
     },
     "execution_count": 182,
     "metadata": {},
     "output_type": "execute_result"
    }
   ],
   "source": [
    "#cross validation\n",
    "logreg = LogisticRegression(random_state=0).fit(data_x, y)\n",
    "pred=cross_val_predict(logreg, data_x, y, cv=5)\n",
    "pred_hand=cross_val_predict(logreg, data_hand, y_hand, cv=5)\n",
    "confusion_matrix(y, pred), confusion_matrix(y_hand, pred_hand)"
   ]
  },
  {
   "cell_type": "code",
   "execution_count": 183,
   "metadata": {},
   "outputs": [
    {
     "data": {
      "text/plain": [
       "(array([[479,  38],\n",
       "        [ 91,  92]], dtype=int64),\n",
       " array([[8, 1],\n",
       "        [3, 2]], dtype=int64))"
      ]
     },
     "execution_count": 183,
     "metadata": {},
     "output_type": "execute_result"
    }
   ],
   "source": [
    "#train on all datas\n",
    "logreg = LogisticRegression(random_state=0).fit(data_x, y)\n",
    "pred=logreg.predict(data_x)\n",
    "pred_hand=logreg.predict(data_test)\n",
    "confusion_matrix(y, pred), confusion_matrix(y_hand, pred_hand)"
   ]
  },
  {
   "cell_type": "code",
   "execution_count": 181,
   "metadata": {},
   "outputs": [
    {
     "name": "stdout",
     "output_type": "stream",
     "text": [
      "[[381  33]\n",
      " [ 73  73]]\n",
      "[[98  5]\n",
      " [17 20]]\n"
     ]
    },
    {
     "data": {
      "text/plain": [
       "array([[9, 0],\n",
       "       [3, 2]], dtype=int64)"
      ]
     },
     "execution_count": 181,
     "metadata": {},
     "output_type": "execute_result"
    }
   ],
   "source": [
    "#split method \n",
    "x_train,x_test,y_train,y_test=train_test_split(data_x, y, test_size=0.2, random_state=1)\n",
    "logreg = LogisticRegression(random_state=0).fit(x_train, y_train)\n",
    "pred_train=logreg.predict(x_train)\n",
    "pred_test=logreg.predict(x_test)\n",
    "pred_hand=logreg.predict(data_hand)\n",
    "print(confusion_matrix(y_train, pred_train))\n",
    "print(confusion_matrix(y_test, pred_test))\n",
    "confusion_matrix(y_hand, pred_hand) \n"
   ]
  },
  {
   "cell_type": "markdown",
   "metadata": {},
   "source": [
    "# 2. Print accuracy, confusion matrix, precision, recall, sensitivity and specifity on train and test (and maybe validation) datasets."
   ]
  },
  {
   "cell_type": "markdown",
   "metadata": {},
   "source": [
    "##### do not use any libraries for metrics, implement yourself"
   ]
  },
  {
   "cell_type": "code",
   "execution_count": 238,
   "metadata": {},
   "outputs": [],
   "source": [
    "import numpy as np"
   ]
  },
  {
   "cell_type": "code",
   "execution_count": 251,
   "metadata": {},
   "outputs": [
    {
     "name": "stdout",
     "output_type": "stream",
     "text": [
      "[[381  33]\n",
      " [ 73  73]]\n",
      "[[98  5]\n",
      " [17 20]]\n",
      "[[8 1]\n",
      " [3 2]]\n"
     ]
    },
    {
     "data": {
      "text/plain": [
       "(array([[381,  33],\n",
       "        [ 73,  73]]),\n",
       " array([[98,  5],\n",
       "        [17, 20]]),\n",
       " array([[8, 1],\n",
       "        [3, 2]]))"
      ]
     },
     "execution_count": 251,
     "metadata": {},
     "output_type": "execute_result"
    }
   ],
   "source": [
    "#create confusion matrix\n",
    "cmtr=np.array([[0,0],[0,0]])\n",
    "cmtst=np.array([[0,0],[0,0]])\n",
    "cmtsth=np.array([[0,0],[0,0]])\n",
    "#train\n",
    "for pred, exp in zip(pred_train,  y_train):\n",
    "    cmtr[pred][exp] += 1\n",
    "cmtr=cmtr.transpose()\n",
    "\n",
    "#test\n",
    "for pred, exp in zip(pred_test,  y_test):\n",
    "    cmtst[pred][exp] += 1\n",
    "cmtst=cmtst.transpose()\n",
    "\n",
    "#hand\n",
    "for pred, exp in zip(pred_hand,  y_hand):\n",
    "    cmtsth[pred][exp] += 1\n",
    "cmtsth=cmtsth.transpose()\n",
    "\n",
    "print(confusion_matrix(y_train, pred_train))\n",
    "print(confusion_matrix(y_test, pred_test))\n",
    "print(confusion_matrix(y_hand, pred_hand))\n",
    "cmtr,cmtst,cmtsth"
   ]
  },
  {
   "cell_type": "code",
   "execution_count": 266,
   "metadata": {},
   "outputs": [
    {
     "name": "stdout",
     "output_type": "stream",
     "text": [
      "Conf Matrix Train: \n",
      " [[381  33]\n",
      " [ 73  73]]\n",
      "Conf Matrix Test: \n",
      " [[98  5]\n",
      " [17 20]]\n",
      "Conf Matrix Hand: \n",
      " [[8 1]\n",
      " [3 2]]\n",
      "Accuracy Train: 0.8107142857142857\n",
      "Accuracy Test: 0.8428571428571429\n",
      "Recall Train Positive - Sensitivity : 0.9202898550724637\n",
      "Recall Test Positive - Sensitivity : 0.9514563106796117\n",
      "Recall Train Negative - Specificity: 0.5\n",
      "Recall Test Negative - Specificity: 0.5405405405405406\n",
      "Precision Train Positive: 0.8392070484581498\n",
      "Precision Test Positive: 0.8521739130434782\n",
      "Precision Train Negative: 0.6886792452830188\n",
      "Precision Test Negative: 0.8\n"
     ]
    }
   ],
   "source": [
    "from sklearn import metrics\n",
    "print(\"Conf Matrix Train: \\n\",cmtr)\n",
    "print(\"Conf Matrix Test: \\n\",cmtst)\n",
    "print(\"Conf Matrix Hand: \\n\",cmtsth) \n",
    "accuracy_train=cmtr.diagonal().sum()/len(y_train)\n",
    "accuracy_test=cmtst.diagonal().sum()/len(y_test)\n",
    "recall_train_p=cmtr[0][0]/cmtr[0].sum()\n",
    "recall_test_p=cmtst[0][0]/cmtst[0].sum()\n",
    "recall_train_n=cmtr[1][1]/cmtr[1].sum()\n",
    "recall_test_n=cmtst[1][1]/cmtst[1].sum()\n",
    "prec_train_p=cmtr[0][0]/cmtr[:,0].sum()\n",
    "prec_test_p=cmtst[0][0]/cmtst[:,0].sum()\n",
    "prec_train_n=cmtr[1][1]/cmtr[:,1].sum()\n",
    "prec_test_n=cmtst[1][1]/cmtst[:,1].sum()\n",
    "print(\"Accuracy Train:\",accuracy_train)\n",
    "print(\"Accuracy Test:\",accuracy_test)\n",
    "print(\"Recall Train Positive - Sensitivity :\",recall_train_p)\n",
    "print(\"Recall Test Positive - Sensitivity :\",recall_test_p)\n",
    "print(\"Recall Train Negative - Specificity:\",recall_train_n)\n",
    "print(\"Recall Test Negative - Specificity:\",recall_test_n)\n",
    "print(\"Precision Train Positive:\",prec_train_p)\n",
    "print(\"Precision Test Positive:\",prec_test_p)\n",
    "print(\"Precision Train Negative:\",prec_train_n)\n",
    "print(\"Precision Test Negative:\",prec_test_n)\n",
    "# print(\"Accuracy Train:\",metrics.accuracy_score(y_train, pred_train))\n",
    "# print(\"Accuracy Test:\",metrics.accuracy_score(y_test, pred_test))\n",
    "# print(\"Precision Test:\",metrics.precision_score(y_test, pred_test, average=None))\n",
    "# print(\"Precision Train:\",metrics.precision_score(y_train, pred_train, average=None))\n",
    "# print(\"Precision Test:\",metrics.precision_score(y_test, pred_test))\n",
    "# print(\"Recall:\",metrics.recall_score(y_train, pred_train))\n",
    "# print(\"Recall:\",metrics.recall_score(y_test, pred_test))"
   ]
  }
 ],
 "metadata": {
  "kernelspec": {
   "display_name": "Python 3",
   "language": "python",
   "name": "python3"
  },
  "language_info": {
   "codemirror_mode": {
    "name": "ipython",
    "version": 3
   },
   "file_extension": ".py",
   "mimetype": "text/x-python",
   "name": "python",
   "nbconvert_exporter": "python",
   "pygments_lexer": "ipython3",
   "version": "3.7.6"
  }
 },
 "nbformat": 4,
 "nbformat_minor": 4
}
