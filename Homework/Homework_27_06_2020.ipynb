{
 "cells": [
  {
   "cell_type": "code",
   "execution_count": 70,
   "metadata": {},
   "outputs": [],
   "source": [
    "def my_max(*args):\n",
    "\n",
    "    if len(args)==0:\n",
    "        print('no numbers given')\n",
    "    else:\n",
    "        max_n=args[0]\n",
    "  \n",
    "        for i in args:\n",
    "            if i>max_n:\n",
    "                max_n=i  \n",
    "     \n",
    "    return max_n"
   ]
  },
  {
   "cell_type": "code",
   "execution_count": 71,
   "metadata": {},
   "outputs": [
    {
     "data": {
      "text/plain": [
       "3"
      ]
     },
     "execution_count": 71,
     "metadata": {},
     "output_type": "execute_result"
    }
   ],
   "source": [
    "my_max(1,2,3)"
   ]
  },
  {
   "cell_type": "code",
   "execution_count": 100,
   "metadata": {},
   "outputs": [],
   "source": [
    "def unique_list(list1):\n",
    "    \n",
    "    print (list(set(list1)))\n",
    "    \n"
   ]
  },
  {
   "cell_type": "code",
   "execution_count": 101,
   "metadata": {},
   "outputs": [
    {
     "name": "stdout",
     "output_type": "stream",
     "text": [
      "[1, 2, 3, 4]\n"
     ]
    }
   ],
   "source": [
    "unique_list ([1,1,2,3,4,4])"
   ]
  },
  {
   "cell_type": "code",
   "execution_count": 132,
   "metadata": {},
   "outputs": [],
   "source": [
    "def my_fib (n):\n",
    "    if n==0:\n",
    "        return 0\n",
    "    else:    \n",
    "        list_n=[0,1]\n",
    "        for i in range(2,n+1):\n",
    "            n=list_n[i-1]+list_n[i-2]\n",
    "            list_n.append(n)\n",
    "        return (max(list_n))"
   ]
  },
  {
   "cell_type": "code",
   "execution_count": 134,
   "metadata": {},
   "outputs": [
    {
     "data": {
      "text/plain": [
       "144"
      ]
     },
     "execution_count": 134,
     "metadata": {},
     "output_type": "execute_result"
    }
   ],
   "source": [
    "my_fib(12)\n"
   ]
  },
  {
   "cell_type": "code",
   "execution_count": 148,
   "metadata": {},
   "outputs": [],
   "source": [
    "class Person:\n",
    "    def __init__(self, name, last_name, age, gender, student):\n",
    "        self.name=name\n",
    "        self.last_name=last_name\n",
    "        self.age=age\n",
    "        self.gender=gender\n",
    "        self.student=student\n",
    "     \n",
    "        \n",
    "    def get_password(self):\n",
    "        return self.__password\n",
    "\n",
    "    def set_password(self, password):\n",
    "        self.__password = password\n",
    "        \n",
    "    def Greeting(self, second_person):\n",
    "        return ('\"Welcome dear %s\"' % second_person.name)\n",
    "        \n",
    "    def Goodbye (self):\n",
    "        return ('\"Bye everyone!\"')\n",
    "    \n",
    "    def Favourite_num(self, num1):\n",
    "        return ('\"My favourite number is %s\"' % num1)\n",
    "    \n",
    "    def Read_file(self, filename):       \n",
    "        file=open(filename+\".txt\")        \n",
    "        return (file.read())\n",
    "        "
   ]
  },
  {
   "cell_type": "code",
   "execution_count": 150,
   "metadata": {},
   "outputs": [
    {
     "name": "stdout",
     "output_type": "stream",
     "text": [
      "Text_27_06_2020.txt\n"
     ]
    },
    {
     "data": {
      "text/plain": [
       "'There are seven days of the week, or uniquely named 24-hour periods designed to provide scheduling context and make time more easily measureable. Each of these days is identifiable by specific plans, moods, and tones.'"
      ]
     },
     "execution_count": 150,
     "metadata": {},
     "output_type": "execute_result"
    }
   ],
   "source": [
    "pers1=Person (\"Anna\",\"Amiryan\",25, \"F\", False)\n",
    "pers2=Person (\"Alla\",\"Asatryan\",18, \"F\", True)\n",
    "pers1.set_password(\"123654\")\n",
    "pers1.get_password()\n",
    "pers1.Greeting(pers2)\n",
    "pers1.Goodbye()\n",
    "pers1.Favourite_num(10)\n",
    "pers1.Read_file(\"Text_27_06_2020\")"
   ]
  },
  {
   "cell_type": "code",
   "execution_count": 159,
   "metadata": {},
   "outputs": [],
   "source": [
    "class Calculation:\n",
    "    def __init__(self, x, y):\n",
    "        self.x=x\n",
    "        self.y=y\n",
    "    \n",
    "    def addition(self):\n",
    "        print (self.x+self.y)\n",
    "        \n",
    "    def subtraction(self):\n",
    "        print (self.x-self.y)\n",
    "        \n",
    "\n",
    "class MyCalculation (Calculation):\n",
    "    def __init__(self, x, y):        \n",
    "        Calculation.__init__(self,x,y)\n",
    "        \n",
    "    def multiplication(self):\n",
    "        print (self.x*self.y)\n",
    "        \n",
    "    def division(self):\n",
    "        if self.y!=0:\n",
    "            print (self.x/self.y)\n",
    "        else:\n",
    "            print (\"Division is impossible.\")\n",
    "    \n",
    "    \n",
    "    "
   ]
  },
  {
   "cell_type": "code",
   "execution_count": 160,
   "metadata": {},
   "outputs": [
    {
     "name": "stdout",
     "output_type": "stream",
     "text": [
      "8\n",
      "-2\n",
      "15\n",
      "0.6\n"
     ]
    }
   ],
   "source": [
    "mc1=MyCalculation(3,5)\n",
    "mc1.addition()\n",
    "mc1.subtraction()\n",
    "mc1.multiplication()\n",
    "mc1.division()\n",
    "\n"
   ]
  },
  {
   "cell_type": "code",
   "execution_count": null,
   "metadata": {},
   "outputs": [],
   "source": []
  }
 ],
 "metadata": {
  "kernelspec": {
   "display_name": "Python 3",
   "language": "python",
   "name": "python3"
  },
  "language_info": {
   "codemirror_mode": {
    "name": "ipython",
    "version": 3
   },
   "file_extension": ".py",
   "mimetype": "text/x-python",
   "name": "python",
   "nbconvert_exporter": "python",
   "pygments_lexer": "ipython3",
   "version": "3.7.6"
  }
 },
 "nbformat": 4,
 "nbformat_minor": 4
}
