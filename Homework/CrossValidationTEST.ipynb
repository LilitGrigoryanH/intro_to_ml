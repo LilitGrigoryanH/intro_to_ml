{
 "cells": [
  {
   "cell_type": "code",
   "execution_count": 3,
   "metadata": {},
   "outputs": [],
   "source": [
    "import pandas as pd\n",
    "import numpy as np\n",
    "from sklearn import datasets, linear_model\n",
    "from sklearn.model_selection import train_test_split\n",
    "from matplotlib import pyplot as plt\n",
    "from sklearn.metrics import mean_squared_error"
   ]
  },
  {
   "cell_type": "code",
   "execution_count": 19,
   "metadata": {},
   "outputs": [],
   "source": [
    "# Load the Diabetes dataset\n",
    "columns = 'age sex bmi map tc ldl hdl tch ltg glu'.split() # Declare the columns names\n",
    "diabetes = datasets.load_diabetes() # Call the diabetes dataset from sklearn\n",
    "df = pd.DataFrame(diabetes.data, columns=columns) # load the dataset as a pandas data frame\n",
    "y1 = diabetes.target # define the target variable (dependent variable) as y\n",
    "y=y1\n",
    "y2=y1"
   ]
  },
  {
   "cell_type": "markdown",
   "metadata": {},
   "source": [
    "# tasks "
   ]
  },
  {
   "cell_type": "code",
   "execution_count": 5,
   "metadata": {},
   "outputs": [
    {
     "name": "stderr",
     "output_type": "stream",
     "text": [
      "C:\\Users\\Lilit\\anaconda3\\lib\\site-packages\\ipykernel_launcher.py:15: FutureWarning: Using a non-tuple sequence for multidimensional indexing is deprecated; use `arr[tuple(seq)]` instead of `arr[seq]`. In the future this will be interpreted as an array index, `arr[np.array(seq)]`, which will result either in an error or a different result.\n",
      "  from ipykernel import kernelapp as app\n"
     ]
    },
    {
     "data": {
      "text/plain": [
       "([array([41,  7, 48, 46,  9, 13, 20, 28,  0, 45, 16, 29, 34, 27, 35, 19],\n",
       "        dtype=int64),\n",
       "  array([23, 14, 49,  8, 17, 24, 42,  6, 12, 37, 30, 32, 31, 38, 39,  5],\n",
       "        dtype=int64),\n",
       "  array([11, 40, 10, 15, 36, 22, 21, 33, 47, 26, 25,  4, 18,  1, 43,  2, 44,\n",
       "          3], dtype=int64)],\n",
       " [array([44,  3], dtype=int64)],\n",
       " (16,))"
      ]
     },
     "execution_count": 5,
     "metadata": {},
     "output_type": "execute_result"
    }
   ],
   "source": [
    "#split datas randomly\n",
    "arrx=df.age.head(50).index.to_numpy() \n",
    "\n",
    "split_n=3\n",
    "\n",
    "row_n=len(arrx)\n",
    "split_size_add=row_n%split_n\n",
    "split_size=int((row_n-split_size_add)/split_n)\n",
    "\n",
    "list_add=[]\n",
    "\n",
    "list_add.append(np.random.choice(arrx, size=split_size_add, replace=False))\n",
    "\n",
    "\n",
    "arrx[list_add]=-1\n",
    "\n",
    "list_split=[]\n",
    "arrx1=np.where(arrx > -1)\n",
    "arrx1=np.asarray(arrx1).flatten()\n",
    "\n",
    "for i in range (split_n):\n",
    "    list1=(np.random.choice(arrx1, size=split_size, replace=False))\n",
    "    \n",
    "    for i in list1:\n",
    "        arrx[i]=-1\n",
    "        \n",
    "    arrx1=arrx[arrx > -1]\n",
    "       \n",
    "    list_split.append(list1)\n",
    "\n",
    "\n",
    "list_split[-1]=np.append(list_split[-1], list_add) \n",
    "\n",
    "list_split, list_add, list_split[0].shape\n",
    "\n",
    "\n"
   ]
  },
  {
   "cell_type": "code",
   "execution_count": 8,
   "metadata": {},
   "outputs": [
    {
     "data": {
      "text/plain": [
       "(156.25200673719485, 144.45200701738466)"
      ]
     },
     "execution_count": 8,
     "metadata": {},
     "output_type": "execute_result"
    }
   ],
   "source": [
    "###test result by hand\n",
    "\n",
    "import statistics\n",
    "list_slope=[]\n",
    "list_inter=[]\n",
    "list_x=[]\n",
    "list_y=[]\n",
    "x_index=[]\n",
    "for split in range(3):  #change range first 1 then 2 then 3 and check result with test continue\n",
    "    x_index=[]\n",
    "    for i in range(len(list_split)):\n",
    "        if (i!=split):\n",
    "            x_index.extend(list_split[i])\n",
    "\n",
    "\n",
    "\n",
    "    x=df.age[x_index].reset_index(drop=True)\n",
    "    y=y1[x_index]\n",
    "\n",
    "\n",
    "    x_mean=x.mean()\n",
    "    y_mean=y.mean()\n",
    "\n",
    "    Sxy=0\n",
    "    Sxx=0\n",
    "\n",
    "    for i in range(len(y)):\n",
    "        Sxy += (x[i] - x_mean) * (y[i] - y_mean)\n",
    "        Sxx += (x[i] - x_mean) ** 2\n",
    "    \n",
    "\n",
    "    slope=Sxy/Sxx\n",
    "    intercept =y_mean-slope*x_mean\n",
    "    \n",
    "    list_slope.append(slope)\n",
    "    list_inter.append(intercept)\n",
    "    \n",
    "slope=statistics.mean(list_slope)\n",
    "intercept=statistics.mean(list_inter)\n",
    "\n",
    "# list_y.extend(y)\n",
    "# list_x.extend(x)   \n",
    "slope,intercept"
   ]
  },
  {
   "cell_type": "code",
   "execution_count": 24,
   "metadata": {},
   "outputs": [
    {
     "data": {
      "text/plain": [
       "(array([151.49530745]), 143.9249229985232)"
      ]
     },
     "execution_count": 24,
     "metadata": {},
     "output_type": "execute_result"
    }
   ],
   "source": [
    "#test continue\n",
    "#result by ordinary regression\n",
    "arrx1=df.age.head(50).index.to_numpy()\n",
    "x1=df.age[arrx1].reset_index(drop=True)\n",
    "y1=y1[arrx1]\n",
    "x_test=df.age[50:100]\n",
    "y_test=y2[50:100]\n",
    "\n",
    "x=np.reshape(list_x,(-1,1))\n",
    "\n",
    "y=list_y\n",
    "\n",
    "reg = linear_model.LinearRegression()\n",
    "model = reg.fit(x, y)\n",
    "#compare with \n",
    "#model = reg.fit(x1.values.reshape(-1,1), y1)\n",
    "#predictions = model.predict(x_test.values.reshape(-1,1))\n",
    "#not the same result\n",
    "#(array([151.49530745]), 143.9249229985232)\n",
    "model.coef_, model.intercept_"
   ]
  },
  {
   "cell_type": "code",
   "execution_count": 25,
   "metadata": {},
   "outputs": [
    {
     "data": {
      "text/plain": [
       "[149.83385238342302,\n",
       " 153.80699234107578,\n",
       " 136.21165824289918,\n",
       " 143.0227553131611,\n",
       " 136.779249665421,\n",
       " 137.91443251046465,\n",
       " 137.91443251046465,\n",
       " 140.18479820055197,\n",
       " 150.96903522846665,\n",
       " 154.37458376359763,\n",
       " 133.37370113029004,\n",
       " 137.91443251046465,\n",
       " 140.18479820055197,\n",
       " 139.0496153555083,\n",
       " 154.94217518611944,\n",
       " 137.3468410879428,\n",
       " 143.0227553131611,\n",
       " 150.96903522846665,\n",
       " 150.40144380594484,\n",
       " 146.99589527081386,\n",
       " 144.15793815820473,\n",
       " 144.15793815820473,\n",
       " 154.37458376359763,\n",
       " 146.42830384829205,\n",
       " 146.42830384829205,\n",
       " 143.0227553131611,\n",
       " 139.61720677803012,\n",
       " 129.40056117263725,\n",
       " 145.2931210032484,\n",
       " 128.2653783275935,\n",
       " 155.50976660864126,\n",
       " 146.42830384829205,\n",
       " 141.88757246811744,\n",
       " 138.48202393298646,\n",
       " 144.72552958072657,\n",
       " 151.5366266509885,\n",
       " 133.37370113029004,\n",
       " 151.5366266509885,\n",
       " 136.21165824289918,\n",
       " 137.3468410879428,\n",
       " 146.42830384829205,\n",
       " 151.5366266509885,\n",
       " 141.3199810455956,\n",
       " 136.779249665421,\n",
       " 132.23851828524639,\n",
       " 133.37370113029004,\n",
       " 153.23940091855397,\n",
       " 140.18479820055197,\n",
       " 144.72552958072657,\n",
       " 144.15793815820473]"
      ]
     },
     "execution_count": 25,
     "metadata": {},
     "output_type": "execute_result"
    }
   ],
   "source": [
    "pred_y=[]\n",
    "\n",
    "\n",
    "pred_y=[intercept+slope*i for i in x_test]\n",
    "    \n",
    "pred_y"
   ]
  },
  {
   "cell_type": "code",
   "execution_count": 29,
   "metadata": {},
   "outputs": [],
   "source": [
    "from sklearn.model_selection import cross_val_score, cross_val_predict\n",
    "x_index=df.age.head(50).index.to_numpy() \n",
    "x=df.age[x_index].reset_index(drop=True)\n",
    "y=y1[x_index]\n",
    "\n",
    "reg = linear_model.LinearRegression()\n",
    "model = reg.fit(x.values.reshape(-1,1), y)\n",
    "predic_cross = cross_val_predict(model, x.values.reshape(-1,1), y, cv=3)\n",
    "\n"
   ]
  },
  {
   "cell_type": "code",
   "execution_count": 31,
   "metadata": {},
   "outputs": [
    {
     "data": {
      "text/plain": [
       "(63.96607600525535, 63.8473783805944, 68.64760335390923)"
      ]
     },
     "execution_count": 31,
     "metadata": {},
     "output_type": "execute_result"
    }
   ],
   "source": [
    "rmse_hand=np.sqrt(mean_squared_error(y_test, pred_y))\n",
    "rmse_reg=np.sqrt(mean_squared_error(y_test, predictions))\n",
    "rmse_cross=np.sqrt(mean_squared_error(y_test, predic_cross))\n",
    "rmse, rmse1, rmse_cross"
   ]
  },
  {
   "cell_type": "code",
   "execution_count": null,
   "metadata": {},
   "outputs": [],
   "source": []
  }
 ],
 "metadata": {
  "kernelspec": {
   "display_name": "Python 3",
   "language": "python",
   "name": "python3"
  },
  "language_info": {
   "codemirror_mode": {
    "name": "ipython",
    "version": 3
   },
   "file_extension": ".py",
   "mimetype": "text/x-python",
   "name": "python",
   "nbconvert_exporter": "python",
   "pygments_lexer": "ipython3",
   "version": "3.7.6"
  }
 },
 "nbformat": 4,
 "nbformat_minor": 4
}
