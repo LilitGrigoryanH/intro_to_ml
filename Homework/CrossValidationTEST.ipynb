{
 "cells": [
  {
   "cell_type": "code",
   "execution_count": 1,
   "metadata": {},
   "outputs": [],
   "source": [
    "import pandas as pd\n",
    "import numpy as np\n",
    "from sklearn import datasets, linear_model\n",
    "from sklearn.model_selection import train_test_split\n",
    "from matplotlib import pyplot as plt\n",
    "from sklearn.metrics import mean_squared_error"
   ]
  },
  {
   "cell_type": "code",
   "execution_count": 2,
   "metadata": {},
   "outputs": [],
   "source": [
    "# Load the Diabetes dataset\n",
    "columns = 'age sex bmi map tc ldl hdl tch ltg glu'.split() # Declare the columns names\n",
    "diabetes = datasets.load_diabetes() # Call the diabetes dataset from sklearn\n",
    "df = pd.DataFrame(diabetes.data, columns=columns) # load the dataset as a pandas data frame\n",
    "y1 = diabetes.target # define the target variable (dependent variable) as y\n",
    "y=y1"
   ]
  },
  {
   "cell_type": "markdown",
   "metadata": {},
   "source": [
    "# tasks "
   ]
  },
  {
   "cell_type": "code",
   "execution_count": 20,
   "metadata": {},
   "outputs": [
    {
     "name": "stderr",
     "output_type": "stream",
     "text": [
      "C:\\Users\\Lilit\\anaconda3\\lib\\site-packages\\ipykernel_launcher.py:15: FutureWarning: Using a non-tuple sequence for multidimensional indexing is deprecated; use `arr[tuple(seq)]` instead of `arr[seq]`. In the future this will be interpreted as an array index, `arr[np.array(seq)]`, which will result either in an error or a different result.\n",
      "  from ipykernel import kernelapp as app\n"
     ]
    },
    {
     "data": {
      "text/plain": [
       "([array([43, 23,  2, 12, 22, 14, 35, 19, 44, 15, 49, 48, 34, 13,  8, 40],\n",
       "        dtype=int64),\n",
       "  array([26, 38, 46, 27, 11, 37,  7, 32, 36, 10, 20, 28,  6, 45,  3,  1],\n",
       "        dtype=int64),\n",
       "  array([25, 41, 21, 16, 33, 17, 29, 18, 31, 42, 39, 47,  5,  0, 24,  4,  9,\n",
       "         30], dtype=int64)],\n",
       " [array([ 9, 30], dtype=int64)],\n",
       " (16,))"
      ]
     },
     "execution_count": 20,
     "metadata": {},
     "output_type": "execute_result"
    }
   ],
   "source": [
    "#split datas randomly\n",
    "arrx=df.age.head(50).index.to_numpy() \n",
    "\n",
    "split_n=3\n",
    "\n",
    "row_n=len(arrx)\n",
    "split_size_add=row_n%split_n\n",
    "split_size=int((row_n-split_size_add)/split_n)\n",
    "\n",
    "list_add=[]\n",
    "\n",
    "list_add.append(np.random.choice(arrx, size=split_size_add, replace=False))\n",
    "\n",
    "\n",
    "arrx[list_add]=-1\n",
    "\n",
    "list_split=[]\n",
    "arrx1=np.where(arrx > -1)\n",
    "arrx1=np.asarray(arrx1).flatten()\n",
    "\n",
    "for i in range (split_n):\n",
    "    list1=(np.random.choice(arrx1, size=split_size, replace=False))\n",
    "    \n",
    "    for i in list1:\n",
    "        arrx[i]=-1\n",
    "        \n",
    "    arrx1=arrx[arrx > -1]\n",
    "       \n",
    "    list_split.append(list1)\n",
    "\n",
    "\n",
    "list_split[-1]=np.append(list_split[-1], list_add) \n",
    "\n",
    "list_split, list_add, list_split[0].shape\n",
    "\n",
    "\n"
   ]
  },
  {
   "cell_type": "code",
   "execution_count": 24,
   "metadata": {},
   "outputs": [
    {
     "data": {
      "text/plain": [
       "(206.1942087857467, 148.6909931189266)"
      ]
     },
     "execution_count": 24,
     "metadata": {},
     "output_type": "execute_result"
    }
   ],
   "source": [
    "###test result by hand\n",
    "\n",
    "list_slope=[]\n",
    "list_inter=[]\n",
    "list_x=[]\n",
    "list_y=[]\n",
    "x_index=[]\n",
    "for split in range(1):  #change range first 1 then 2 then 3 and check result with test continue\n",
    "    x_index=[]\n",
    "    for i in range(len(list_split)):\n",
    "        if (i!=split):\n",
    "            x_index.extend(list_split[i])\n",
    "\n",
    "\n",
    "\n",
    "    x=df.age[x_index].reset_index(drop=True)\n",
    "    y=y1[x_index]\n",
    "\n",
    "\n",
    "    x_mean=x.mean()\n",
    "    y_mean=y.mean()\n",
    "\n",
    "    Sxy=0\n",
    "    Sxx=0\n",
    "\n",
    "    for i in range(len(y)):\n",
    "        Sxy += (x[i] - x_mean) * (y[i] - y_mean)\n",
    "        Sxx += (x[i] - x_mean) ** 2\n",
    "    \n",
    "\n",
    "    slope=Sxy/Sxx\n",
    "    intercept =y_mean-slope*x_mean\n",
    "    \n",
    "    list_slope.append(slope)\n",
    "    list_inter.append(intercept)\n",
    "list_y.extend(y)\n",
    "list_x.extend(x)   \n",
    "slope,intercept"
   ]
  },
  {
   "cell_type": "code",
   "execution_count": 25,
   "metadata": {},
   "outputs": [
    {
     "data": {
      "text/plain": [
       "(array([206.19420879]), 148.6909931189266)"
      ]
     },
     "execution_count": 25,
     "metadata": {},
     "output_type": "execute_result"
    }
   ],
   "source": [
    "#test continue\n",
    "#result by ordinary regression\n",
    "arrx1=df.age.head(50).index.to_numpy()\n",
    "x1=df.age[arrx1].reset_index(drop=True)\n",
    "y1=y1[arrx1]\n",
    "\n",
    "x=np.reshape(list_x,(-1,1))\n",
    "\n",
    "y=list_y\n",
    "\n",
    "reg = linear_model.LinearRegression()\n",
    "model = reg.fit(x, y)\n",
    "#compare with \n",
    "#model = reg.fit(x1.values.reshape(-1,1), y1)\n",
    "#not the same result\n",
    "#(array([151.49530745]), 143.9249229985232)\n",
    "model.coef_, model.intercept_"
   ]
  },
  {
   "cell_type": "code",
   "execution_count": null,
   "metadata": {},
   "outputs": [],
   "source": []
  }
 ],
 "metadata": {
  "kernelspec": {
   "display_name": "Python 3",
   "language": "python",
   "name": "python3"
  },
  "language_info": {
   "codemirror_mode": {
    "name": "ipython",
    "version": 3
   },
   "file_extension": ".py",
   "mimetype": "text/x-python",
   "name": "python",
   "nbconvert_exporter": "python",
   "pygments_lexer": "ipython3",
   "version": "3.7.6"
  }
 },
 "nbformat": 4,
 "nbformat_minor": 4
}
