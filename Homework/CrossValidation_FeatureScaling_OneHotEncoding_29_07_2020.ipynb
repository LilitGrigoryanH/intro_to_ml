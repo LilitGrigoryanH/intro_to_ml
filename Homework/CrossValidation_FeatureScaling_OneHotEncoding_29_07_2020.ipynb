{
 "cells": [
  {
   "cell_type": "code",
   "execution_count": 8,
   "metadata": {},
   "outputs": [],
   "source": [
    "import pandas as pd\n",
    "import numpy as np\n",
    "from sklearn import datasets, linear_model\n",
    "from sklearn.model_selection import train_test_split\n",
    "from matplotlib import pyplot as plt\n",
    "from sklearn.metrics import mean_squared_error"
   ]
  },
  {
   "cell_type": "code",
   "execution_count": 215,
   "metadata": {},
   "outputs": [],
   "source": [
    "# Load the Diabetes dataset\n",
    "columns = 'age sex bmi map tc ldl hdl tch ltg glu'.split() # Declare the columns names\n",
    "diabetes = datasets.load_diabetes() # Call the diabetes dataset from sklearn\n",
    "df = pd.DataFrame(diabetes.data, columns=columns) # load the dataset as a pandas data frame\n",
    "y1 = diabetes.target # define the target variable (dependent variable) as y\n",
    "y=y1"
   ]
  },
  {
   "cell_type": "code",
   "execution_count": 216,
   "metadata": {},
   "outputs": [
    {
     "data": {
      "text/plain": [
       "(        age       sex       bmi       map        tc       ldl       hdl  \\\n",
       " 0  0.038076  0.050680  0.061696  0.021872 -0.044223 -0.034821 -0.043401   \n",
       " 1 -0.001882 -0.044642 -0.051474 -0.026328 -0.008449 -0.019163  0.074412   \n",
       " 2  0.085299  0.050680  0.044451 -0.005671 -0.045599 -0.034194 -0.032356   \n",
       " 3 -0.089063 -0.044642 -0.011595 -0.036656  0.012191  0.024991 -0.036038   \n",
       " 4  0.005383 -0.044642 -0.036385  0.021872  0.003935  0.015596  0.008142   \n",
       " \n",
       "         tch       ltg       glu  \n",
       " 0 -0.002592  0.019908 -0.017646  \n",
       " 1 -0.039493 -0.068330 -0.092204  \n",
       " 2 -0.002592  0.002864 -0.025930  \n",
       " 3  0.034309  0.022692 -0.009362  \n",
       " 4 -0.002592 -0.031991 -0.046641  ,\n",
       " array([151.,  75., 141., 206., 135.,  97., 138.,  63., 110., 310., 101.,\n",
       "         69., 179., 185., 118., 171., 166., 144.,  97., 168.,  68.,  49.,\n",
       "         68., 245., 184., 202., 137.,  85., 131., 283., 129.,  59., 341.,\n",
       "         87.,  65., 102., 265., 276., 252.,  90., 100.,  55.,  61.,  92.,\n",
       "        259.,  53., 190., 142.,  75., 142., 155., 225.,  59., 104., 182.,\n",
       "        128.,  52.,  37., 170., 170.,  61., 144.,  52., 128.,  71., 163.,\n",
       "        150.,  97., 160., 178.,  48., 270., 202., 111.,  85.,  42., 170.,\n",
       "        200., 252., 113., 143.,  51.,  52., 210.,  65., 141.,  55., 134.,\n",
       "         42., 111.,  98., 164.,  48.,  96.,  90., 162., 150., 279.,  92.,\n",
       "         83., 128., 102., 302., 198.,  95.,  53., 134., 144., 232.,  81.,\n",
       "        104.,  59., 246., 297., 258., 229., 275., 281., 179., 200., 200.,\n",
       "        173., 180.,  84., 121., 161.,  99., 109., 115., 268., 274., 158.,\n",
       "        107.,  83., 103., 272.,  85., 280., 336., 281., 118., 317., 235.,\n",
       "         60., 174., 259., 178., 128.,  96., 126., 288.,  88., 292.,  71.,\n",
       "        197., 186.,  25.,  84.,  96., 195.,  53., 217., 172., 131., 214.,\n",
       "         59.,  70., 220., 268., 152.,  47.,  74., 295., 101., 151., 127.,\n",
       "        237., 225.,  81., 151., 107.,  64., 138., 185., 265., 101., 137.,\n",
       "        143., 141.,  79., 292., 178.,  91., 116.,  86., 122.,  72., 129.,\n",
       "        142.,  90., 158.,  39., 196., 222., 277.,  99., 196., 202., 155.,\n",
       "         77., 191.,  70.,  73.,  49.,  65., 263., 248., 296., 214., 185.,\n",
       "         78.,  93., 252., 150.,  77., 208.,  77., 108., 160.,  53., 220.,\n",
       "        154., 259.,  90., 246., 124.,  67.,  72., 257., 262., 275., 177.,\n",
       "         71.,  47., 187., 125.,  78.,  51., 258., 215., 303., 243.,  91.,\n",
       "        150., 310., 153., 346.,  63.,  89.,  50.,  39., 103., 308., 116.,\n",
       "        145.,  74.,  45., 115., 264.,  87., 202., 127., 182., 241.,  66.,\n",
       "         94., 283.,  64., 102., 200., 265.,  94., 230., 181., 156., 233.,\n",
       "         60., 219.,  80.,  68., 332., 248.,  84., 200.,  55.,  85.,  89.,\n",
       "         31., 129.,  83., 275.,  65., 198., 236., 253., 124.,  44., 172.,\n",
       "        114., 142., 109., 180., 144., 163., 147.,  97., 220., 190., 109.,\n",
       "        191., 122., 230., 242., 248., 249., 192., 131., 237.,  78., 135.,\n",
       "        244., 199., 270., 164.,  72.,  96., 306.,  91., 214.,  95., 216.,\n",
       "        263., 178., 113., 200., 139., 139.,  88., 148.,  88., 243.,  71.,\n",
       "         77., 109., 272.,  60.,  54., 221.,  90., 311., 281., 182., 321.,\n",
       "         58., 262., 206., 233., 242., 123., 167.,  63., 197.,  71., 168.,\n",
       "        140., 217., 121., 235., 245.,  40.,  52., 104., 132.,  88.,  69.,\n",
       "        219.,  72., 201., 110.,  51., 277.,  63., 118.,  69., 273., 258.,\n",
       "         43., 198., 242., 232., 175.,  93., 168., 275., 293., 281.,  72.,\n",
       "        140., 189., 181., 209., 136., 261., 113., 131., 174., 257.,  55.,\n",
       "         84.,  42., 146., 212., 233.,  91., 111., 152., 120.,  67., 310.,\n",
       "         94., 183.,  66., 173.,  72.,  49.,  64.,  48., 178., 104., 132.,\n",
       "        220.,  57.]))"
      ]
     },
     "execution_count": 216,
     "metadata": {},
     "output_type": "execute_result"
    }
   ],
   "source": [
    "df.head(), y1"
   ]
  },
  {
   "cell_type": "code",
   "execution_count": 8,
   "metadata": {},
   "outputs": [
    {
     "data": {
      "text/plain": [
       "array([151.,  75., 141., 206., 135.])"
      ]
     },
     "execution_count": 8,
     "metadata": {},
     "output_type": "execute_result"
    }
   ],
   "source": [
    "y[:5]"
   ]
  },
  {
   "cell_type": "code",
   "execution_count": 14,
   "metadata": {},
   "outputs": [
    {
     "name": "stdout",
     "output_type": "stream",
     "text": [
      "(353, 10) (353,)\n",
      "(89, 10) (89,)\n"
     ]
    }
   ],
   "source": [
    "# create training and testing vars\n",
    "X_train, X_test, y_train, y_test = train_test_split(df, y, test_size=0.2)\n",
    "print (X_train.shape, y_train.shape)\n",
    "print (X_test.shape, y_test.shape)"
   ]
  },
  {
   "cell_type": "code",
   "execution_count": 16,
   "metadata": {},
   "outputs": [],
   "source": [
    "# fit a model\n",
    "lm = linear_model.LinearRegression()\n",
    "model = lm.fit(X_train, y_train)\n",
    "predictions = lm.predict(X_test)"
   ]
  },
  {
   "cell_type": "code",
   "execution_count": 8,
   "metadata": {},
   "outputs": [
    {
     "data": {
      "text/plain": [
       "array([104.51164901, 158.42814434, 167.48757323, 160.10361555,\n",
       "       203.32224444])"
      ]
     },
     "execution_count": 8,
     "metadata": {},
     "output_type": "execute_result"
    }
   ],
   "source": [
    "predictions[0:5]"
   ]
  },
  {
   "cell_type": "code",
   "execution_count": 11,
   "metadata": {},
   "outputs": [
    {
     "data": {
      "text/plain": [
       "Text(0, 0.5, 'Predictions')"
      ]
     },
     "execution_count": 11,
     "metadata": {},
     "output_type": "execute_result"
    },
    {
     "data": {
      "image/png": "[encoded data removed]",
      "text/plain": [
       "<Figure size 432x288 with 1 Axes>"
      ]
     },
     "metadata": {
      "needs_background": "light"
     },
     "output_type": "display_data"
    }
   ],
   "source": [
    "## The line / model\n",
    "plt.scatter(y_test, predictions)\n",
    "plt.xlabel('True Values')\n",
    "plt.ylabel('Predictions')"
   ]
  },
  {
   "cell_type": "code",
   "execution_count": 24,
   "metadata": {},
   "outputs": [
    {
     "name": "stdout",
     "output_type": "stream",
     "text": [
      "Test RMSE: 52.55849499311389\n",
      "Train RMSE: 53.8968340273753\n"
     ]
    }
   ],
   "source": [
    "print ('Test RMSE:', np.sqrt(mean_squared_error(predictions, y_test)))\n",
    "print ('Train RMSE:', np.sqrt(mean_squared_error(lm.predict(X_train), y_train)))"
   ]
  },
  {
   "cell_type": "markdown",
   "metadata": {},
   "source": [
    "# Cross Validation"
   ]
  },
  {
   "cell_type": "code",
   "execution_count": 30,
   "metadata": {},
   "outputs": [
    {
     "data": {
      "text/plain": [
       "2"
      ]
     },
     "execution_count": 30,
     "metadata": {},
     "output_type": "execute_result"
    }
   ],
   "source": [
    "from sklearn.model_selection import KFold # import KFold\n",
    "X = np.array([[1, 2], [3, 4], [1, 2], [3, 4]]) # create an array\n",
    "y = np.array([1, 2, 3, 4]) # Create another array\n",
    "kf = KFold(n_splits=2) # Define the split - into 2 folds \n",
    "kf.get_n_splits(X) # returns the number of splitting iterations in the cross-validator"
   ]
  },
  {
   "cell_type": "code",
   "execution_count": 58,
   "metadata": {},
   "outputs": [
    {
     "name": "stdout",
     "output_type": "stream",
     "text": [
      "KFold(n_splits=2, random_state=None, shuffle=False)\n"
     ]
    }
   ],
   "source": [
    "print(kf) "
   ]
  },
  {
   "cell_type": "code",
   "execution_count": 31,
   "metadata": {},
   "outputs": [
    {
     "name": "stdout",
     "output_type": "stream",
     "text": [
      "TRAIN: [2 3] TEST: [0 1]\n",
      "TRAIN: [0 1] TEST: [2 3]\n"
     ]
    },
    {
     "data": {
      "text/plain": [
       "(array([[1, 2],\n",
       "        [3, 4]]),\n",
       " array([[1, 2],\n",
       "        [3, 4]]),\n",
       " array([1, 2]),\n",
       " array([3, 4]))"
      ]
     },
     "execution_count": 31,
     "metadata": {},
     "output_type": "execute_result"
    }
   ],
   "source": [
    "for train_index, test_index in kf.split(X):\n",
    "    print('TRAIN:', train_index, 'TEST:', test_index)\n",
    "    X_train, X_test = X[train_index], X[test_index]\n",
    "    y_train, y_test = y[train_index], y[test_index]\n",
    "X_train, X_test,y_train, y_test"
   ]
  },
  {
   "cell_type": "markdown",
   "metadata": {},
   "source": [
    "### LOOCV"
   ]
  },
  {
   "cell_type": "code",
   "execution_count": 62,
   "metadata": {},
   "outputs": [
    {
     "name": "stdout",
     "output_type": "stream",
     "text": [
      "TRAIN: [1 2 3] TEST: [0]\n",
      "TRAIN: [0 2 3] TEST: [1]\n",
      "TRAIN: [0 1 3] TEST: [2]\n",
      "TRAIN: [0 1 2] TEST: [3]\n"
     ]
    }
   ],
   "source": [
    "from sklearn.model_selection import LeaveOneOut \n",
    "X = np.array([[1, 2], [3, 4], [1, 2], [3, 4]]) # create an array\n",
    "y = np.array([1, 2, 3, 4]) # Create another array\n",
    "loo = LeaveOneOut()\n",
    "loo.get_n_splits(X)\n",
    "\n",
    "\n",
    "for train_index, test_index in loo.split(X):\n",
    "    print('TRAIN:', train_index, 'TEST:', test_index)\n",
    "    X_train, X_test = X[train_index], X[test_index]\n",
    "    y_train, y_test = y[train_index], y[test_index]"
   ]
  },
  {
   "cell_type": "code",
   "execution_count": 210,
   "metadata": {},
   "outputs": [],
   "source": [
    "from sklearn.model_selection import cross_val_score, cross_val_predict\n",
    "from sklearn import metrics"
   ]
  },
  {
   "cell_type": "code",
   "execution_count": 19,
   "metadata": {},
   "outputs": [
    {
     "name": "stdout",
     "output_type": "stream",
     "text": [
      "Cross-validated scores: [0.4554861  0.46138572 0.40094084 0.55220736 0.43942775 0.56923406]\n"
     ]
    }
   ],
   "source": [
    "# Perform 6-fold cross validation\n",
    "scores = cross_val_score(model, df, y, cv=6)\n",
    "print ('Cross-validated scores:', scores)"
   ]
  },
  {
   "cell_type": "code",
   "execution_count": 18,
   "metadata": {},
   "outputs": [],
   "source": [
    "?cross_val_score"
   ]
  },
  {
   "cell_type": "code",
   "execution_count": 71,
   "metadata": {},
   "outputs": [
    {
     "data": {
      "text/plain": [
       "<matplotlib.collections.PathCollection at 0x20b4e623bc8>"
      ]
     },
     "execution_count": 71,
     "metadata": {},
     "output_type": "execute_result"
    },
    {
     "data": {
      "image/png": "[encoded data removed]",
      "text/plain": [
       "<Figure size 432x288 with 1 Axes>"
      ]
     },
     "metadata": {
      "needs_background": "light"
     },
     "output_type": "display_data"
    }
   ],
   "source": [
    "# Make cross validated predictions\n",
    "predictions = cross_val_predict(model, df, y, cv=10)\n",
    "plt.scatter(y, predictions)"
   ]
  },
  {
   "cell_type": "code",
   "execution_count": 74,
   "metadata": {},
   "outputs": [
    {
     "data": {
      "text/plain": [
       "54.76342105528678"
      ]
     },
     "execution_count": 74,
     "metadata": {},
     "output_type": "execute_result"
    }
   ],
   "source": [
    "np.sqrt(mean_squared_error(y,predictions))"
   ]
  },
  {
   "cell_type": "markdown",
   "metadata": {},
   "source": [
    "# tasks "
   ]
  },
  {
   "cell_type": "markdown",
   "metadata": {},
   "source": [
    "##### Find out cross validation results without using cross_val_predict"
   ]
  },
  {
   "cell_type": "code",
   "execution_count": 16,
   "metadata": {},
   "outputs": [],
   "source": [
    "from sklearn.model_selection import KFold\n",
    "kf = KFold(n_splits=3) \n",
    "\n",
    "\n",
    "list_split=[]\n",
    "\n",
    "\n",
    "for train_index, test_index in kf.split(df):\n",
    "       list_split.append([train_index,test_index])\n",
    " \n"
   ]
  },
  {
   "cell_type": "code",
   "execution_count": 17,
   "metadata": {},
   "outputs": [
    {
     "data": {
      "text/plain": [
       "[210.50511237181234,\n",
       " 67.6007143299554,\n",
       " 185.3804203945591,\n",
       " 157.15946162536034,\n",
       " 127.39261469689127,\n",
       " 93.39315985011851,\n",
       " 73.01117688889221,\n",
       " 134.85818880028873,\n",
       " 167.3033588192754,\n",
       " 199.06368190943022,\n",
       " 78.53295255876174,\n",
       " 110.86176176795448,\n",
       " 113.02746056707575,\n",
       " 164.62145828474078,\n",
       " 105.88380046391491,\n",
       " 183.99207510505545,\n",
       " 204.1054410814486,\n",
       " 191.99288218380713,\n",
       " 140.75185485783211,\n",
       " 118.44342378352934,\n",
       " 106.78705428096657,\n",
       " 83.73033715458416,\n",
       " 106.26755362983818,\n",
       " 241.44978117738447,\n",
       " 161.13694323474803,\n",
       " 145.50444630957853,\n",
       " 77.54594172005982,\n",
       " 172.64543356144043,\n",
       " 125.22001850588761,\n",
       " 178.91015805586724,\n",
       " 153.3438946202765,\n",
       " 59.89530993830665,\n",
       " 273.5354171156955,\n",
       " 105.55272715976241,\n",
       " 73.65701358765064,\n",
       " 92.10769925348018,\n",
       " 200.3566338406755,\n",
       " 149.9414219585907,\n",
       " 247.01257707201154,\n",
       " 138.83767919495978,\n",
       " 157.3139544389885,\n",
       " 58.635591934773345,\n",
       " 143.63538097674228,\n",
       " 74.08015284308621,\n",
       " 229.8690542654104,\n",
       " 130.41765511408508,\n",
       " 133.48286541939868,\n",
       " 94.20019255177857,\n",
       " 82.10251573107641,\n",
       " 190.23088521691434,\n",
       " 153.16194457180114,\n",
       " 175.64877927237634,\n",
       " 130.88620760613244,\n",
       " 154.52520732546463,\n",
       " 135.99513385367274,\n",
       " 66.97677626640797,\n",
       " 198.78111545169196,\n",
       " 69.40262914372894,\n",
       " 101.11169827396357,\n",
       " 140.39376630636443,\n",
       " 103.52715768782016,\n",
       " 177.65324337541063,\n",
       " 66.36737300595595,\n",
       " 96.16823508489179,\n",
       " 115.87896806965377,\n",
       " 187.8606440284006,\n",
       " 151.81806018594978,\n",
       " 129.91077080901846,\n",
       " 118.07670437318662,\n",
       " 113.82503696035107,\n",
       " 68.77457530578795,\n",
       " 231.4633939611432,\n",
       " 146.33562360779845,\n",
       " 132.17930997340747,\n",
       " 152.6759255874062,\n",
       " 126.62275819877256,\n",
       " 185.47456785298917,\n",
       " 66.21018888147778,\n",
       " 154.56207678518155,\n",
       " 84.19821265768319,\n",
       " 178.74374493408234,\n",
       " 128.52340085380942,\n",
       " 64.95205174128789,\n",
       " 143.45365070294363,\n",
       " 53.02044368745197,\n",
       " 171.39560772303128,\n",
       " 40.97969431659047,\n",
       " 151.8666416203649,\n",
       " 75.69939895403506,\n",
       " 98.24681179482342,\n",
       " 75.71044680947654,\n",
       " 189.95870533881924,\n",
       " 185.73068161026316,\n",
       " 53.516792867737806,\n",
       " 102.49494050313348,\n",
       " 110.88929185657452,\n",
       " 208.79678260682945,\n",
       " 213.06513187224442,\n",
       " 126.36633747327699,\n",
       " 136.09415547415287,\n",
       " 166.5973104941929,\n",
       " 109.82095337340064,\n",
       " 143.55666759679715,\n",
       " 172.34386166445543,\n",
       " 153.28665707543888,\n",
       " 117.78915380955661,\n",
       " 61.50152627979023,\n",
       " 161.699242472621,\n",
       " 228.2951964000733,\n",
       " 149.5483680883886,\n",
       " 44.753163190096444,\n",
       " 123.10979152103855,\n",
       " 146.40504868795608,\n",
       " 207.97820350570254,\n",
       " 282.5061572686632,\n",
       " 189.03748895388492,\n",
       " 222.8286884254055,\n",
       " 226.87965495972003,\n",
       " 163.5218647565843,\n",
       " 140.5832495529497,\n",
       " 151.057414324288,\n",
       " 201.48038644825587,\n",
       " 230.62019277381228,\n",
       " 193.67792576014645,\n",
       " 164.4804393465894,\n",
       " 178.41639960912582,\n",
       " 46.004531753685924,\n",
       " 117.66987058064296,\n",
       " 85.09686860584756,\n",
       " 203.347785434328,\n",
       " 244.70818811425633,\n",
       " 59.30785830491665,\n",
       " 118.42710679226745,\n",
       " 65.28568730925724,\n",
       " 138.21903552763732,\n",
       " 229.79651122845115,\n",
       " 43.21891043560841,\n",
       " 232.5245338457026,\n",
       " 258.96825120955947,\n",
       " 246.357554029641,\n",
       " 161.76555770627544,\n",
       " 226.70006890549257,\n",
       " 175.508783306522,\n",
       " 116.86608444136591,\n",
       " 189.38953752665464,\n",
       " 238.94964553829016,\n",
       " 194.83022672658626,\n",
       " 224.02035979557826,\n",
       " 106.69060827973635,\n",
       " 183.91143558298145,\n",
       " 207.63110834176,\n",
       " 146.8912667763932,\n",
       " 203.86944864808646,\n",
       " 122.33784797454877,\n",
       " 142.85839633064154,\n",
       " 191.91969812949432,\n",
       " 152.0326392933261,\n",
       " 122.91733657411287,\n",
       " 90.70239384109684,\n",
       " 242.55388111692636,\n",
       " 87.19275426404675,\n",
       " 225.54995129534467,\n",
       " 141.75854424256838,\n",
       " 188.16882389094704,\n",
       " 149.25497361860914,\n",
       " 82.04140812026674,\n",
       " 63.065657390796716,\n",
       " 260.81130549267874,\n",
       " 216.81599555672477,\n",
       " 231.75946194533861,\n",
       " 33.65127582642452,\n",
       " 92.41000839806034,\n",
       " 212.19340276431257,\n",
       " 108.12767424468754,\n",
       " 164.81596016101352,\n",
       " 122.08588163845184,\n",
       " 151.82676766011517,\n",
       " 225.3323151043202,\n",
       " 94.26588697117668,\n",
       " 172.9509218716985,\n",
       " 183.24286307232683,\n",
       " 89.18017704602136,\n",
       " 169.8720015755826,\n",
       " 161.18369568086993,\n",
       " 204.828530173768,\n",
       " 196.47719202326212,\n",
       " 197.71865959611642,\n",
       " 73.38282975415386,\n",
       " 156.2211011961606,\n",
       " 125.2026511436644,\n",
       " 206.18845195789385,\n",
       " 133.13729327164492,\n",
       " 87.03051137848232,\n",
       " 135.1535720306004,\n",
       " 170.98741741182243,\n",
       " 164.6267822100258,\n",
       " 100.24004787634061,\n",
       " 191.43448249653034,\n",
       " 139.28634783724152,\n",
       " 186.81317920876756,\n",
       " 94.28909673751427,\n",
       " 66.40383999236906,\n",
       " 159.29196338642404,\n",
       " 196.255411841382,\n",
       " 173.4873157881317,\n",
       " 235.0744774272373,\n",
       " 155.3722907893036,\n",
       " 213.35821273278623,\n",
       " 222.13432463282658,\n",
       " 178.45831286359697,\n",
       " 121.87731976144883,\n",
       " 172.12906421356678,\n",
       " 149.9044496041392,\n",
       " 104.89005159946701,\n",
       " 101.18299522685606,\n",
       " 257.65900366064244,\n",
       " 221.8902244167111,\n",
       " 223.02867442480428,\n",
       " 145.59067922650158,\n",
       " 159.10950675930408,\n",
       " 47.38477699561773,\n",
       " 152.22448695763023,\n",
       " 159.50353943080404,\n",
       " 133.6152474754063,\n",
       " 81.7702407824226,\n",
       " 234.0332947680883,\n",
       " 81.66796895404178,\n",
       " 100.40138899772595,\n",
       " 120.33925625845458,\n",
       " 93.83266748534237,\n",
       " 150.0289301082886,\n",
       " 166.70669296256196,\n",
       " 155.12277397752973,\n",
       " 136.27647971483313,\n",
       " 234.04782462638514,\n",
       " 179.23428899825498,\n",
       " 189.47394920920217,\n",
       " 64.26474193581595,\n",
       " 196.65305501563608,\n",
       " 176.8621511522337,\n",
       " 230.6838534889691,\n",
       " 111.69156407076783,\n",
       " 87.51273026942091,\n",
       " 102.08603427842843,\n",
       " 131.9368886684298,\n",
       " 109.04682206800251,\n",
       " 121.57118660544951,\n",
       " 94.76005522062667,\n",
       " 236.37873242993595,\n",
       " 248.6107704091588,\n",
       " 267.8614167454763,\n",
       " 272.4458207360878,\n",
       " 176.06466270760623,\n",
       " 199.56629165826354,\n",
       " 250.66518575968237,\n",
       " 126.58716474593925,\n",
       " 260.51632565276924,\n",
       " 109.76212704395893,\n",
       " 107.98412968595153,\n",
       " 146.92037630673678,\n",
       " 46.441690124358104,\n",
       " 132.7049740415131,\n",
       " 257.2167308130057,\n",
       " 46.36357198577639,\n",
       " 113.99182768037562,\n",
       " 131.24256073490926,\n",
       " 29.733535260529564,\n",
       " 132.628625565739,\n",
       " 235.6208355651067,\n",
       " 88.06291951197548,\n",
       " 192.4103465314241,\n",
       " 163.37162349310785,\n",
       " 152.22016051837304,\n",
       " 192.74792980761518,\n",
       " 185.23021769159004,\n",
       " 158.5818166451894,\n",
       " 189.5875858988791,\n",
       " 125.51160223052938,\n",
       " 106.73515958443477,\n",
       " 116.19510774782154,\n",
       " 163.5660657466117,\n",
       " 107.62600270384351,\n",
       " 134.82754709837954,\n",
       " 87.86086222111307,\n",
       " 166.17203148135312,\n",
       " 213.08764696887647,\n",
       " 82.5404943886191,\n",
       " 144.30522212934937,\n",
       " 67.73951044726766,\n",
       " 187.95782407305134,\n",
       " 212.52162554437297,\n",
       " 208.1112734120709,\n",
       " 91.91733204914135,\n",
       " 171.46637798847274,\n",
       " 77.11769894847664,\n",
       " 159.2101485862025,\n",
       " 75.18973992578925,\n",
       " 101.49209236388933,\n",
       " 107.69877843725439,\n",
       " 122.47451429649287,\n",
       " 227.82937581460823,\n",
       " 121.98359124900519,\n",
       " 207.24934468061082,\n",
       " 230.44145391733298,\n",
       " 109.00709265976737,\n",
       " 127.53813780786544,\n",
       " 125.24627442836373,\n",
       " 146.41162060114172,\n",
       " 89.1220420545585,\n",
       " 142.25883647295763,\n",
       " 205.5529305949551,\n",
       " 174.99920671135695,\n",
       " 123.08558457778774,\n",
       " 213.08277684163406,\n",
       " 175.50796626905523,\n",
       " 113.41801730772002,\n",
       " 204.0081268492025,\n",
       " 168.32220023163399,\n",
       " 163.89768410612982,\n",
       " 196.95271451208254,\n",
       " 189.79099706496328,\n",
       " 286.9717153778198,\n",
       " 297.4272663469337,\n",
       " 229.619331665179,\n",
       " 207.8392221671856,\n",
       " 227.7774158598708,\n",
       " 156.88997415028425,\n",
       " 226.9117456010448,\n",
       " 197.17436839634263,\n",
       " 103.73865076816566,\n",
       " 172.53615659601894,\n",
       " 110.72066488685363,\n",
       " 294.0227455919306,\n",
       " 178.97258579194886,\n",
       " 78.67228769348156,\n",
       " 84.47192552510842,\n",
       " 257.0041914655906,\n",
       " 165.93324139264828,\n",
       " 118.72266885556593,\n",
       " 150.45082342743714,\n",
       " 162.19219348606111,\n",
       " 180.56640406759405,\n",
       " 159.7060914948187,\n",
       " 155.7162998340906,\n",
       " 142.5976042565726,\n",
       " 122.38459768707614,\n",
       " 175.02213375264407,\n",
       " 104.59234447801342,\n",
       " 133.4022960458459,\n",
       " 88.70176529237703,\n",
       " 257.77455048731224,\n",
       " 87.31158831984774,\n",
       " 64.01813782125373,\n",
       " 177.84521474968028,\n",
       " 198.79369527621645,\n",
       " 132.8261348375722,\n",
       " 88.24841445306453,\n",
       " 203.656105279801,\n",
       " 52.580578644037615,\n",
       " 172.43753247959032,\n",
       " 198.00957323461648,\n",
       " 122.53031323066233,\n",
       " 237.33067556293162,\n",
       " 161.94354384934272,\n",
       " 162.53701371576648,\n",
       " 165.32797255167978,\n",
       " 265.5718128714326,\n",
       " 265.1884549373016,\n",
       " 205.9831535368003,\n",
       " 187.96995190691177,\n",
       " 58.741925425812255,\n",
       " 204.80549307777878,\n",
       " 108.62091652256075,\n",
       " 144.83574421176826,\n",
       " 130.28681927174748,\n",
       " 173.62980416717286,\n",
       " 211.01820879116968,\n",
       " 159.99326011651053,\n",
       " 159.67244852419265,\n",
       " 138.94135279600167,\n",
       " 172.9527695757747,\n",
       " 70.84369692836455,\n",
       " 264.8722338620905,\n",
       " 114.14966220471331,\n",
       " 106.24185950648874,\n",
       " 136.37775324725735,\n",
       " 110.7196718598885,\n",
       " 97.05256815143785,\n",
       " 155.16264030280848,\n",
       " 78.23541311483042,\n",
       " 267.2310027894315,\n",
       " 56.30725083938583,\n",
       " 99.39030814742867,\n",
       " 102.3615672332781,\n",
       " 274.28177644122235,\n",
       " 171.5243923695843,\n",
       " 65.96390244548027,\n",
       " 186.72550339799366,\n",
       " 171.86635704056553,\n",
       " 187.84133198899946,\n",
       " 186.84918028142675,\n",
       " 94.68340266579077,\n",
       " 143.3880402463286,\n",
       " 262.66613419606244,\n",
       " 199.69677654997986,\n",
       " 284.0430082388855,\n",
       " 48.708319563225004,\n",
       " 179.2612558438355,\n",
       " 197.11147316087886,\n",
       " 165.45040785684068,\n",
       " 154.99643831810212,\n",
       " 159.81874499173554,\n",
       " 236.53197152473507,\n",
       " 126.4874528316412,\n",
       " 160.5274861735735,\n",
       " 171.46841844354532,\n",
       " 225.920740198138,\n",
       " 159.6252009241004,\n",
       " 98.73768235138321,\n",
       " 84.5482813497177,\n",
       " 137.439591989858,\n",
       " 188.7917096419609,\n",
       " 201.01904717797964,\n",
       " 139.53376526756995,\n",
       " 171.8241248289629,\n",
       " 117.512200146049,\n",
       " 157.80776983561375,\n",
       " 134.12509687318877,\n",
       " 264.59769803851947,\n",
       " 99.76890157786704,\n",
       " 111.4873036404307,\n",
       " 120.09335953450457,\n",
       " 227.25122049046405,\n",
       " 62.73284384825379,\n",
       " 133.86079033689657,\n",
       " 118.2746435064501,\n",
       " 55.91053956594685,\n",
       " 189.806692823361,\n",
       " 101.97647855196678,\n",
       " 119.19059496667586,\n",
       " 212.7653830257726,\n",
       " 58.11230985006861]"
      ]
     },
     "execution_count": 17,
     "metadata": {},
     "output_type": "execute_result"
    }
   ],
   "source": [
    "list_pred=[]\n",
    "\n",
    "for i in range(len(list_split)):\n",
    "  \n",
    "    reg = linear_model.LinearRegression()\n",
    "    model = reg.fit(df.iloc[list_split[i][0]], y[list_split[i][0]])\n",
    "    predictions = reg.predict(df.iloc[list_split[i][1]])\n",
    "    \n",
    "    list_pred.extend(predictions)\n",
    "\n",
    "\n",
    "list_pred\n",
    "\n",
    "#predictions = cross_val_predict(model, df, y, cv=2)\n",
    "#len(predictions)\n"
   ]
  },
  {
   "cell_type": "markdown",
   "metadata": {},
   "source": [
    "##### Implement cross validation without using sklearn at all"
   ]
  },
  {
   "cell_type": "code",
   "execution_count": 139,
   "metadata": {},
   "outputs": [
    {
     "name": "stderr",
     "output_type": "stream",
     "text": [
      "C:\\Users\\Lilit\\anaconda3\\lib\\site-packages\\ipykernel_launcher.py:15: FutureWarning: Using a non-tuple sequence for multidimensional indexing is deprecated; use `arr[tuple(seq)]` instead of `arr[seq]`. In the future this will be interpreted as an array index, `arr[np.array(seq)]`, which will result either in an error or a different result.\n",
      "  from ipykernel import kernelapp as app\n"
     ]
    },
    {
     "data": {
      "text/plain": [
       "(-154.18197589585264, 125.82825092292343)"
      ]
     },
     "execution_count": 139,
     "metadata": {},
     "output_type": "execute_result"
    }
   ],
   "source": [
    "#split datas randomly\n",
    "arrx=df.age.head(50).index.to_numpy() \n",
    "\n",
    "split_n=3\n",
    "\n",
    "row_n=len(arrx)\n",
    "split_size_add=row_n%split_n\n",
    "split_size=int((row_n-split_size_add)/split_n)\n",
    "\n",
    "list_add=[]\n",
    "\n",
    "list_add.append(np.random.choice(arrx, size=split_size_add, replace=False))\n",
    "\n",
    "\n",
    "arrx[list_add]=-1\n",
    "\n",
    "list_split=[]\n",
    "arrx1=np.where(arrx > -1)\n",
    "arrx1=np.asarray(arrx1).flatten()\n",
    "\n",
    "for i in range (split_n):\n",
    "    list1=(np.random.choice(arrx1, size=split_size, replace=False))\n",
    "    \n",
    "    for i in list1:\n",
    "        arrx[i]=-1\n",
    "        \n",
    "    arrx1=arrx[arrx > -1]\n",
    "       \n",
    "    list_split.append(list1)\n",
    "\n",
    "\n",
    "list_split[-1]=np.append(list_split[-1], list_add) \n",
    "\n",
    "list_split, list_add, list_split[0].shape\n",
    "\n",
    "\n"
   ]
  },
  {
   "cell_type": "code",
   "execution_count": 206,
   "metadata": {},
   "outputs": [
    {
     "data": {
      "text/plain": [
       "(141.27472022340044, 142.55600951025616)"
      ]
     },
     "execution_count": 206,
     "metadata": {},
     "output_type": "execute_result"
    }
   ],
   "source": [
    "#get line \n",
    "#y=a+bx\n",
    "#b=Sum((x-xmean)*(y-ymean))/Sum((x-xmin)^2)\n",
    "#a=ymean-b*xmean\n",
    "\n",
    "import statistics \n",
    "\n",
    "list_slope=[]\n",
    "list_inter=[]\n",
    "list_x=[]\n",
    "\n",
    "x_index=[]\n",
    "for split in range(len(list_split)):\n",
    "    x_index=[]\n",
    "    for i in range(len(list_split)):\n",
    "        if (i!=split):\n",
    "            x_index.extend(list_split[i])\n",
    "\n",
    "\n",
    "\n",
    "    x=df.age[x_index].reset_index(drop=True)\n",
    "    y=y1[x_index]\n",
    "\n",
    "    list_x.extend(x)\n",
    "    x_mean=x.mean()\n",
    "    y_mean=y.mean()\n",
    "\n",
    "    Sxy=0\n",
    "    Sxx=0\n",
    "\n",
    "    for i in range(len(y)):\n",
    "        Sxy += (x[i] - x_mean) * (y[i] - y_mean)\n",
    "        Sxx += (x[i] - x_mean) ** 2\n",
    "    \n",
    "\n",
    "    slope=Sxy/Sxx\n",
    "    intercept =y_mean-slope*x_mean\n",
    "    \n",
    "    list_slope.append(slope)\n",
    "    list_inter.append(intercept)\n",
    "\n",
    "slope=statistics.mean(list_slope)\n",
    "intercept=statistics.mean(list_inter)\n",
    "\n",
    "slope,intercept"
   ]
  },
  {
   "cell_type": "code",
   "execution_count": 222,
   "metadata": {},
   "outputs": [
    {
     "data": {
      "text/plain": [
       "([120.51770439088835,\n",
       "  116.59720069961737,\n",
       "  133.95943133238887,\n",
       "  127.23856786163861,\n",
       "  133.399359376493,\n",
       "  132.2792154647013,\n",
       "  132.2792154647013,\n",
       "  130.03892764111788,\n",
       "  119.39756047909665,\n",
       "  116.03712874372151,\n",
       "  136.75979111186814,\n",
       "  132.2792154647013,\n",
       "  130.03892764111788,\n",
       "  131.1590715529096,\n",
       "  115.47705678782566,\n",
       "  132.83928742059717,\n",
       "  127.23856786163861,\n",
       "  119.39756047909665,\n",
       "  119.95763243499249,\n",
       "  123.31806417036763,\n",
       "  126.1184239498469,\n",
       "  126.1184239498469,\n",
       "  116.03712874372151,\n",
       "  123.87813612626348,\n",
       "  123.87813612626348,\n",
       "  127.23856786163861,\n",
       "  130.59899959701374,\n",
       "  140.68029480313913,\n",
       "  124.9982800380552,\n",
       "  141.80043871493092,\n",
       "  114.91698483192981,\n",
       "  123.87813612626348,\n",
       "  128.35871177343034,\n",
       "  131.71914350880544,\n",
       "  125.55835199395105,\n",
       "  118.83748852320079,\n",
       "  136.75979111186814,\n",
       "  118.83748852320079,\n",
       "  133.95943133238887,\n",
       "  132.83928742059717,\n",
       "  123.87813612626348,\n",
       "  118.83748852320079,\n",
       "  128.91878372932618,\n",
       "  133.399359376493,\n",
       "  137.87993502365987,\n",
       "  136.75979111186814,\n",
       "  117.15727265551322,\n",
       "  130.03892764111788,\n",
       "  125.55835199395105,\n",
       "  126.1184239498469],\n",
       " array([155., 225.,  59., 104., 182., 128.,  52.,  37., 170., 170.,  61.,\n",
       "        144.,  52., 128.,  71., 163., 150.,  97., 160., 178.,  48., 270.,\n",
       "        202., 111.,  85.,  42., 170., 200., 252., 113., 143.,  51.,  52.,\n",
       "        210.,  65., 141.,  55., 134.,  42., 111.,  98., 164.,  48.,  96.,\n",
       "         90., 162., 150., 279.,  92.,  83.]))"
      ]
     },
     "execution_count": 222,
     "metadata": {},
     "output_type": "execute_result"
    }
   ],
   "source": [
    "#do prediction\n",
    "test_index=df.age[50:100].index.to_numpy()\n",
    "x=df.age[test_index].reset_index(drop=True)\n",
    "y=y1[test_index]\n",
    "\n",
    "pred_y=[]\n",
    "\n",
    "\n",
    "pred_y=[intercept+slope*i for i in x]\n",
    "    \n",
    "pred_y,y\n"
   ]
  },
  {
   "cell_type": "code",
   "execution_count": 227,
   "metadata": {},
   "outputs": [
    {
     "data": {
      "text/plain": [
       "([149.14293162063103,\n",
       "  152.99511932685914,\n",
       "  135.93543091356335,\n",
       "  142.5391812670972,\n",
       "  136.48574344302452,\n",
       "  137.58636850194682,\n",
       "  137.58636850194682,\n",
       "  139.78761861979143,\n",
       "  150.24355667955334,\n",
       "  153.54543185632028,\n",
       "  133.18386826625758,\n",
       "  137.58636850194682,\n",
       "  139.78761861979143,\n",
       "  138.68699356086913,\n",
       "  154.09574438578144,\n",
       "  137.03605597248566,\n",
       "  142.5391812670972,\n",
       "  150.24355667955334,\n",
       "  149.6932441500922,\n",
       "  146.39136897332526,\n",
       "  143.6398063260195,\n",
       "  143.6398063260195,\n",
       "  153.54543185632028,\n",
       "  145.84105644386412,\n",
       "  145.84105644386412,\n",
       "  142.5391812670972,\n",
       "  139.23730609033026,\n",
       "  129.3316805600295,\n",
       "  144.74043138494181,\n",
       "  128.2310555011071,\n",
       "  154.64605691524258,\n",
       "  145.84105644386412,\n",
       "  141.43855620817487,\n",
       "  138.13668103140796,\n",
       "  144.19011885548065,\n",
       "  150.7938692090145,\n",
       "  133.18386826625758,\n",
       "  150.7938692090145,\n",
       "  135.93543091356335,\n",
       "  137.03605597248566,\n",
       "  145.84105644386412,\n",
       "  150.7938692090145,\n",
       "  140.88824367871374,\n",
       "  136.48574344302452,\n",
       "  132.08324320733527,\n",
       "  133.18386826625758,\n",
       "  152.44480679739797,\n",
       "  139.78761861979143,\n",
       "  144.19011885548065,\n",
       "  143.6398063260195],\n",
       " array([155., 225.,  59., 104., 182., 128.,  52.,  37., 170., 170.,  61.,\n",
       "        144.,  52., 128.,  71., 163., 150.,  97., 160., 178.,  48., 270.,\n",
       "        202., 111.,  85.,  42., 170., 200., 252., 113., 143.,  51.,  52.,\n",
       "        210.,  65., 141.,  55., 134.,  42., 111.,  98., 164.,  48.,  96.,\n",
       "         90., 162., 150., 279.,  92.,  83.]))"
      ]
     },
     "execution_count": 227,
     "metadata": {},
     "output_type": "execute_result"
    }
   ],
   "source": [
    "#do prediction\n",
    "test_index=df.age[50:100].index.to_numpy()\n",
    "x=df.age[test_index].reset_index(drop=True)\n",
    "y=y1[test_index]\n",
    "\n",
    "pred_y=[]\n",
    "\n",
    "\n",
    "pred_y=[143.9249229985232+151.49530745*i for i in x]\n",
    "    \n",
    "pred_y,y"
   ]
  },
  {
   "cell_type": "code",
   "execution_count": null,
   "metadata": {},
   "outputs": [],
   "source": [
    "#ordinary regression\n",
    "arrx1=df.age.head(50).index.to_numpy()\n",
    "x1=df.age[arrx1].reset_index(drop=True)\n",
    "y1=y1[arrx1]\n",
    "\n",
    "x=np.reshape(list_x,(-1,1))\n",
    "\n",
    "y=list_y\n",
    "\n",
    "reg = linear_model.LinearRegression()\n",
    "model = reg.fit(x, y)\n",
    "\n",
    "model.coef_, model.intercept_\n",
    "(array([151.49530745]), 143.9249229985232)"
   ]
  },
  {
   "cell_type": "code",
   "execution_count": 226,
   "metadata": {},
   "outputs": [
    {
     "data": {
      "text/plain": [
       "array([165.58856046, 147.44983203, 187.02523951, 107.87442456,\n",
       "       150.74778266, 106.22544925, 127.66212829, 177.13138764,\n",
       "       167.23753577, 116.11930111, 104.57647393, 160.64163452,\n",
       "       155.69470859, 150.74778266, 168.88651108, 124.36417767,\n",
       "       145.80085672, 127.39731552, 145.63869832, 143.81456004,\n",
       "       147.4628366 , 153.54329753, 153.54329753, 131.65363817,\n",
       "       149.89502097, 150.50306706, 157.19157409, 143.20651394,\n",
       "       130.43754598, 128.00536161, 149.28697487, 143.20651394,\n",
       "       133.47777645, 134.08582254, 148.66372823, 153.92668089,\n",
       "       148.07895571, 144.57032061, 145.73986564, 145.73986564,\n",
       "       146.90941068, 129.95100767, 136.38350536, 149.24850075,\n",
       "       153.34190837, 150.41804578, 136.96827788, 133.45964277,\n",
       "       156.85054348, 139.30736795])"
      ]
     },
     "execution_count": 226,
     "metadata": {},
     "output_type": "execute_result"
    }
   ],
   "source": [
    "x_index=df.age.head(50).index.to_numpy() \n",
    "x=df.age[x_index].reset_index(drop=True)\n",
    "y=y1[x_index]\n",
    "\n",
    "reg = linear_model.LinearRegression()\n",
    "model = reg.fit(x.values.reshape(-1,1), y)\n",
    "predictions = cross_val_predict(model, x.values.reshape(-1,1), y, cv=3)\n",
    "\n",
    "predictions"
   ]
  },
  {
   "cell_type": "code",
   "execution_count": 14,
   "metadata": {},
   "outputs": [
    {
     "data": {
      "text/plain": [
       "(301.16135996453215, 17.39245419636587, 152.13348416289605)"
      ]
     },
     "execution_count": 14,
     "metadata": {},
     "output_type": "execute_result"
    }
   ],
   "source": [
    "#y=a+b1xX1+b2xX2\n",
    "\n",
    "df2=df[['age', 'sex']]\n",
    "\n",
    "x1_mean=df2['age'].mean()\n",
    "x2_mean=df2['sex'].mean()\n",
    "y_mean=y.mean()\n",
    "\n",
    "Sx1x1=0\n",
    "Sx2x2=0\n",
    "Sx1y=0\n",
    "Sx2y=0\n",
    "Sx1x2=0\n",
    "\n",
    "for i in range(len(df2.age)):\n",
    "    Sx1x1 +=(df2.age[i] - x1_mean) ** 2\n",
    "    Sx2x2 +=(df2.sex[i] - x2_mean) ** 2\n",
    "    Sx1y += (df.age[i] - x1_mean) * (y[i] - y_mean)\n",
    "    Sx2y += (df.sex[i] - x2_mean) * (y[i] - y_mean)\n",
    "    Sx1x2 +=(df.age[i] - x1_mean)*(df.sex[i] - x2_mean)\n",
    "\n",
    "b1=(Sx2x2*Sx1y-Sx1x2*Sx2y)/(Sx1x1*Sx2x2-Sx1x2*Sx1x2) \n",
    "b2=(Sx1x1*Sx2y-Sx1x2*Sx1y)/(Sx1x1*Sx2x2-Sx1x2*Sx1x2) \n",
    "\n",
    "a=y_mean-b1*x1_mean-b2*x2_mean\n",
    "\n",
    "b1, b2, a\n",
    "\n"
   ]
  },
  {
   "cell_type": "code",
   "execution_count": 13,
   "metadata": {},
   "outputs": [
    {
     "data": {
      "text/plain": [
       "(array([301.16135996,  17.3924542 ]), 152.13348416289605)"
      ]
     },
     "execution_count": 13,
     "metadata": {},
     "output_type": "execute_result"
    }
   ],
   "source": [
    "lm = linear_model.LinearRegression()\n",
    "model = lm.fit(df[['age','sex']], y)\n",
    "\n",
    "model.coef_, model.intercept_"
   ]
  },
  {
   "cell_type": "markdown",
   "metadata": {},
   "source": [
    "# Feature Scaling"
   ]
  },
  {
   "cell_type": "code",
   "execution_count": 115,
   "metadata": {},
   "outputs": [],
   "source": [
    "import pandas as pd \n",
    "from sklearn.preprocessing import MinMaxScaler\n",
    "  \n",
    "# Read Data from CSV \n",
    "data = pd.read_csv('regression.csv') \n",
    "data.head() \n",
    "y = data['Value']"
   ]
  },
  {
   "cell_type": "code",
   "execution_count": 108,
   "metadata": {},
   "outputs": [],
   "source": [
    "data = data.drop(['Name', 'Nationality', 'Club', 'Wage', 'Position', 'Weight', 'Height', 'Contract Valid Until', 'Value'], axis = 1)"
   ]
  },
  {
   "cell_type": "code",
   "execution_count": 143,
   "metadata": {},
   "outputs": [],
   "source": [
    "X_train, X_test, y_train, y_test = train_test_split(data, y, test_size=0.2)"
   ]
  },
  {
   "cell_type": "markdown",
   "metadata": {},
   "source": [
    "#### MinMaxScaler"
   ]
  },
  {
   "cell_type": "code",
   "execution_count": 144,
   "metadata": {},
   "outputs": [],
   "source": [
    "# Initialise the Scaler and Fit\n",
    "norm = MinMaxScaler().fit(X_train)"
   ]
  },
  {
   "cell_type": "code",
   "execution_count": 145,
   "metadata": {},
   "outputs": [
    {
     "data": {
      "text/html": [
       "<div>\n",
       "<style scoped>\n",
       "    .dataframe tbody tr th:only-of-type {\n",
       "        vertical-align: middle;\n",
       "    }\n",
       "\n",
       "    .dataframe tbody tr th {\n",
       "        vertical-align: top;\n",
       "    }\n",
       "\n",
       "    .dataframe thead th {\n",
       "        text-align: right;\n",
       "    }\n",
       "</style>\n",
       "<table border=\"1\" class=\"dataframe\">\n",
       "  <thead>\n",
       "    <tr style=\"text-align: right;\">\n",
       "      <th></th>\n",
       "      <th>Age</th>\n",
       "      <th>Overall</th>\n",
       "      <th>Potential</th>\n",
       "      <th>Jersey Number</th>\n",
       "    </tr>\n",
       "  </thead>\n",
       "  <tbody>\n",
       "    <tr>\n",
       "      <th>0</th>\n",
       "      <td>0.172414</td>\n",
       "      <td>0.208333</td>\n",
       "      <td>0.404255</td>\n",
       "      <td>0.397959</td>\n",
       "    </tr>\n",
       "    <tr>\n",
       "      <th>1</th>\n",
       "      <td>0.344828</td>\n",
       "      <td>0.604167</td>\n",
       "      <td>0.595745</td>\n",
       "      <td>0.214286</td>\n",
       "    </tr>\n",
       "    <tr>\n",
       "      <th>2</th>\n",
       "      <td>0.310345</td>\n",
       "      <td>0.437500</td>\n",
       "      <td>0.468085</td>\n",
       "      <td>0.336735</td>\n",
       "    </tr>\n",
       "    <tr>\n",
       "      <th>3</th>\n",
       "      <td>0.172414</td>\n",
       "      <td>0.416667</td>\n",
       "      <td>0.553191</td>\n",
       "      <td>0.204082</td>\n",
       "    </tr>\n",
       "    <tr>\n",
       "      <th>4</th>\n",
       "      <td>0.172414</td>\n",
       "      <td>0.125000</td>\n",
       "      <td>0.319149</td>\n",
       "      <td>0.336735</td>\n",
       "    </tr>\n",
       "    <tr>\n",
       "      <th>...</th>\n",
       "      <td>...</td>\n",
       "      <td>...</td>\n",
       "      <td>...</td>\n",
       "      <td>...</td>\n",
       "    </tr>\n",
       "    <tr>\n",
       "      <th>14320</th>\n",
       "      <td>0.482759</td>\n",
       "      <td>0.458333</td>\n",
       "      <td>0.425532</td>\n",
       "      <td>0.071429</td>\n",
       "    </tr>\n",
       "    <tr>\n",
       "      <th>14321</th>\n",
       "      <td>0.310345</td>\n",
       "      <td>0.729167</td>\n",
       "      <td>0.787234</td>\n",
       "      <td>0.153061</td>\n",
       "    </tr>\n",
       "    <tr>\n",
       "      <th>14322</th>\n",
       "      <td>0.034483</td>\n",
       "      <td>0.458333</td>\n",
       "      <td>0.829787</td>\n",
       "      <td>0.163265</td>\n",
       "    </tr>\n",
       "    <tr>\n",
       "      <th>14323</th>\n",
       "      <td>0.724138</td>\n",
       "      <td>0.312500</td>\n",
       "      <td>0.276596</td>\n",
       "      <td>0.224490</td>\n",
       "    </tr>\n",
       "    <tr>\n",
       "      <th>14324</th>\n",
       "      <td>0.241379</td>\n",
       "      <td>0.333333</td>\n",
       "      <td>0.404255</td>\n",
       "      <td>0.397959</td>\n",
       "    </tr>\n",
       "  </tbody>\n",
       "</table>\n",
       "<p>14325 rows × 4 columns</p>\n",
       "</div>"
      ],
      "text/plain": [
       "            Age   Overall  Potential  Jersey Number\n",
       "0      0.172414  0.208333   0.404255       0.397959\n",
       "1      0.344828  0.604167   0.595745       0.214286\n",
       "2      0.310345  0.437500   0.468085       0.336735\n",
       "3      0.172414  0.416667   0.553191       0.204082\n",
       "4      0.172414  0.125000   0.319149       0.336735\n",
       "...         ...       ...        ...            ...\n",
       "14320  0.482759  0.458333   0.425532       0.071429\n",
       "14321  0.310345  0.729167   0.787234       0.153061\n",
       "14322  0.034483  0.458333   0.829787       0.163265\n",
       "14323  0.724138  0.312500   0.276596       0.224490\n",
       "14324  0.241379  0.333333   0.404255       0.397959\n",
       "\n",
       "[14325 rows x 4 columns]"
      ]
     },
     "execution_count": 145,
     "metadata": {},
     "output_type": "execute_result"
    }
   ],
   "source": [
    "pd.DataFrame(columns = X_train.columns, data = norm.transform(X_train))"
   ]
  },
  {
   "cell_type": "code",
   "execution_count": 146,
   "metadata": {},
   "outputs": [
    {
     "data": {
      "text/html": [
       "<div>\n",
       "<style scoped>\n",
       "    .dataframe tbody tr th:only-of-type {\n",
       "        vertical-align: middle;\n",
       "    }\n",
       "\n",
       "    .dataframe tbody tr th {\n",
       "        vertical-align: top;\n",
       "    }\n",
       "\n",
       "    .dataframe thead th {\n",
       "        text-align: right;\n",
       "    }\n",
       "</style>\n",
       "<table border=\"1\" class=\"dataframe\">\n",
       "  <thead>\n",
       "    <tr style=\"text-align: right;\">\n",
       "      <th></th>\n",
       "      <th>Age</th>\n",
       "      <th>Overall</th>\n",
       "      <th>Potential</th>\n",
       "      <th>Jersey Number</th>\n",
       "    </tr>\n",
       "  </thead>\n",
       "  <tbody>\n",
       "    <tr>\n",
       "      <th>0</th>\n",
       "      <td>0.379310</td>\n",
       "      <td>0.333333</td>\n",
       "      <td>0.297872</td>\n",
       "      <td>0.030612</td>\n",
       "    </tr>\n",
       "    <tr>\n",
       "      <th>1</th>\n",
       "      <td>0.379310</td>\n",
       "      <td>0.604167</td>\n",
       "      <td>0.574468</td>\n",
       "      <td>0.091837</td>\n",
       "    </tr>\n",
       "    <tr>\n",
       "      <th>2</th>\n",
       "      <td>0.586207</td>\n",
       "      <td>0.541667</td>\n",
       "      <td>0.510638</td>\n",
       "      <td>0.030612</td>\n",
       "    </tr>\n",
       "    <tr>\n",
       "      <th>3</th>\n",
       "      <td>0.310345</td>\n",
       "      <td>0.270833</td>\n",
       "      <td>0.297872</td>\n",
       "      <td>0.081633</td>\n",
       "    </tr>\n",
       "    <tr>\n",
       "      <th>4</th>\n",
       "      <td>0.413793</td>\n",
       "      <td>0.458333</td>\n",
       "      <td>0.425532</td>\n",
       "      <td>0.142857</td>\n",
       "    </tr>\n",
       "    <tr>\n",
       "      <th>...</th>\n",
       "      <td>...</td>\n",
       "      <td>...</td>\n",
       "      <td>...</td>\n",
       "      <td>...</td>\n",
       "    </tr>\n",
       "    <tr>\n",
       "      <th>3577</th>\n",
       "      <td>0.310345</td>\n",
       "      <td>0.500000</td>\n",
       "      <td>0.531915</td>\n",
       "      <td>0.061224</td>\n",
       "    </tr>\n",
       "    <tr>\n",
       "      <th>3578</th>\n",
       "      <td>0.241379</td>\n",
       "      <td>0.520833</td>\n",
       "      <td>0.659574</td>\n",
       "      <td>0.224490</td>\n",
       "    </tr>\n",
       "    <tr>\n",
       "      <th>3579</th>\n",
       "      <td>0.344828</td>\n",
       "      <td>0.437500</td>\n",
       "      <td>0.404255</td>\n",
       "      <td>0.163265</td>\n",
       "    </tr>\n",
       "    <tr>\n",
       "      <th>3580</th>\n",
       "      <td>0.344828</td>\n",
       "      <td>0.333333</td>\n",
       "      <td>0.361702</td>\n",
       "      <td>0.040816</td>\n",
       "    </tr>\n",
       "    <tr>\n",
       "      <th>3581</th>\n",
       "      <td>0.344828</td>\n",
       "      <td>0.375000</td>\n",
       "      <td>0.361702</td>\n",
       "      <td>0.142857</td>\n",
       "    </tr>\n",
       "  </tbody>\n",
       "</table>\n",
       "<p>3582 rows × 4 columns</p>\n",
       "</div>"
      ],
      "text/plain": [
       "           Age   Overall  Potential  Jersey Number\n",
       "0     0.379310  0.333333   0.297872       0.030612\n",
       "1     0.379310  0.604167   0.574468       0.091837\n",
       "2     0.586207  0.541667   0.510638       0.030612\n",
       "3     0.310345  0.270833   0.297872       0.081633\n",
       "4     0.413793  0.458333   0.425532       0.142857\n",
       "...        ...       ...        ...            ...\n",
       "3577  0.310345  0.500000   0.531915       0.061224\n",
       "3578  0.241379  0.520833   0.659574       0.224490\n",
       "3579  0.344828  0.437500   0.404255       0.163265\n",
       "3580  0.344828  0.333333   0.361702       0.040816\n",
       "3581  0.344828  0.375000   0.361702       0.142857\n",
       "\n",
       "[3582 rows x 4 columns]"
      ]
     },
     "execution_count": 146,
     "metadata": {},
     "output_type": "execute_result"
    }
   ],
   "source": [
    "pd.DataFrame(columns = X_test.columns, data = norm.transform(X_test))"
   ]
  },
  {
   "cell_type": "markdown",
   "metadata": {},
   "source": [
    "### Standard Scaler"
   ]
  },
  {
   "cell_type": "code",
   "execution_count": 80,
   "metadata": {},
   "outputs": [],
   "source": [
    "from sklearn.preprocessing import StandardScaler"
   ]
  },
  {
   "cell_type": "code",
   "execution_count": 148,
   "metadata": {},
   "outputs": [],
   "source": [
    "# Initialise the Scaler and Fit\n",
    "norm = StandardScaler().fit(X_train)"
   ]
  },
  {
   "cell_type": "code",
   "execution_count": 149,
   "metadata": {},
   "outputs": [
    {
     "data": {
      "text/html": [
       "<div>\n",
       "<style scoped>\n",
       "    .dataframe tbody tr th:only-of-type {\n",
       "        vertical-align: middle;\n",
       "    }\n",
       "\n",
       "    .dataframe tbody tr th {\n",
       "        vertical-align: top;\n",
       "    }\n",
       "\n",
       "    .dataframe thead th {\n",
       "        text-align: right;\n",
       "    }\n",
       "</style>\n",
       "<table border=\"1\" class=\"dataframe\">\n",
       "  <thead>\n",
       "    <tr style=\"text-align: right;\">\n",
       "      <th></th>\n",
       "      <th>Age</th>\n",
       "      <th>Overall</th>\n",
       "      <th>Potential</th>\n",
       "      <th>Jersey Number</th>\n",
       "    </tr>\n",
       "  </thead>\n",
       "  <tbody>\n",
       "    <tr>\n",
       "      <th>0</th>\n",
       "      <td>-0.877500</td>\n",
       "      <td>-1.472485</td>\n",
       "      <td>-0.704010</td>\n",
       "      <td>1.261695</td>\n",
       "    </tr>\n",
       "    <tr>\n",
       "      <th>1</th>\n",
       "      <td>0.196691</td>\n",
       "      <td>1.265282</td>\n",
       "      <td>0.759980</td>\n",
       "      <td>0.146003</td>\n",
       "    </tr>\n",
       "    <tr>\n",
       "      <th>2</th>\n",
       "      <td>-0.018147</td>\n",
       "      <td>0.112538</td>\n",
       "      <td>-0.216013</td>\n",
       "      <td>0.889797</td>\n",
       "    </tr>\n",
       "    <tr>\n",
       "      <th>3</th>\n",
       "      <td>-0.877500</td>\n",
       "      <td>-0.031555</td>\n",
       "      <td>0.434649</td>\n",
       "      <td>0.084020</td>\n",
       "    </tr>\n",
       "    <tr>\n",
       "      <th>4</th>\n",
       "      <td>-0.877500</td>\n",
       "      <td>-2.048857</td>\n",
       "      <td>-1.354672</td>\n",
       "      <td>0.889797</td>\n",
       "    </tr>\n",
       "    <tr>\n",
       "      <th>...</th>\n",
       "      <td>...</td>\n",
       "      <td>...</td>\n",
       "      <td>...</td>\n",
       "      <td>...</td>\n",
       "    </tr>\n",
       "    <tr>\n",
       "      <th>14320</th>\n",
       "      <td>1.056045</td>\n",
       "      <td>0.256631</td>\n",
       "      <td>-0.541344</td>\n",
       "      <td>-0.721758</td>\n",
       "    </tr>\n",
       "    <tr>\n",
       "      <th>14321</th>\n",
       "      <td>-0.018147</td>\n",
       "      <td>2.129840</td>\n",
       "      <td>2.223971</td>\n",
       "      <td>-0.225895</td>\n",
       "    </tr>\n",
       "    <tr>\n",
       "      <th>14322</th>\n",
       "      <td>-1.736854</td>\n",
       "      <td>0.256631</td>\n",
       "      <td>2.549302</td>\n",
       "      <td>-0.163912</td>\n",
       "    </tr>\n",
       "    <tr>\n",
       "      <th>14323</th>\n",
       "      <td>2.559913</td>\n",
       "      <td>-0.752020</td>\n",
       "      <td>-1.680003</td>\n",
       "      <td>0.207986</td>\n",
       "    </tr>\n",
       "    <tr>\n",
       "      <th>14324</th>\n",
       "      <td>-0.447824</td>\n",
       "      <td>-0.607927</td>\n",
       "      <td>-0.704010</td>\n",
       "      <td>1.261695</td>\n",
       "    </tr>\n",
       "  </tbody>\n",
       "</table>\n",
       "<p>14325 rows × 4 columns</p>\n",
       "</div>"
      ],
      "text/plain": [
       "            Age   Overall  Potential  Jersey Number\n",
       "0     -0.877500 -1.472485  -0.704010       1.261695\n",
       "1      0.196691  1.265282   0.759980       0.146003\n",
       "2     -0.018147  0.112538  -0.216013       0.889797\n",
       "3     -0.877500 -0.031555   0.434649       0.084020\n",
       "4     -0.877500 -2.048857  -1.354672       0.889797\n",
       "...         ...       ...        ...            ...\n",
       "14320  1.056045  0.256631  -0.541344      -0.721758\n",
       "14321 -0.018147  2.129840   2.223971      -0.225895\n",
       "14322 -1.736854  0.256631   2.549302      -0.163912\n",
       "14323  2.559913 -0.752020  -1.680003       0.207986\n",
       "14324 -0.447824 -0.607927  -0.704010       1.261695\n",
       "\n",
       "[14325 rows x 4 columns]"
      ]
     },
     "execution_count": 149,
     "metadata": {},
     "output_type": "execute_result"
    }
   ],
   "source": [
    "pd.DataFrame(columns = X_train.columns, data = norm.transform(X_train))"
   ]
  },
  {
   "cell_type": "code",
   "execution_count": 150,
   "metadata": {},
   "outputs": [
    {
     "data": {
      "text/html": [
       "<div>\n",
       "<style scoped>\n",
       "    .dataframe tbody tr th:only-of-type {\n",
       "        vertical-align: middle;\n",
       "    }\n",
       "\n",
       "    .dataframe tbody tr th {\n",
       "        vertical-align: top;\n",
       "    }\n",
       "\n",
       "    .dataframe thead th {\n",
       "        text-align: right;\n",
       "    }\n",
       "</style>\n",
       "<table border=\"1\" class=\"dataframe\">\n",
       "  <thead>\n",
       "    <tr style=\"text-align: right;\">\n",
       "      <th></th>\n",
       "      <th>Age</th>\n",
       "      <th>Overall</th>\n",
       "      <th>Potential</th>\n",
       "      <th>Jersey Number</th>\n",
       "    </tr>\n",
       "  </thead>\n",
       "  <tbody>\n",
       "    <tr>\n",
       "      <th>0</th>\n",
       "      <td>0.411530</td>\n",
       "      <td>-0.607927</td>\n",
       "      <td>-1.517338</td>\n",
       "      <td>-0.969689</td>\n",
       "    </tr>\n",
       "    <tr>\n",
       "      <th>1</th>\n",
       "      <td>0.411530</td>\n",
       "      <td>1.265282</td>\n",
       "      <td>0.597315</td>\n",
       "      <td>-0.597792</td>\n",
       "    </tr>\n",
       "    <tr>\n",
       "      <th>2</th>\n",
       "      <td>1.700560</td>\n",
       "      <td>0.833003</td>\n",
       "      <td>0.109318</td>\n",
       "      <td>-0.969689</td>\n",
       "    </tr>\n",
       "    <tr>\n",
       "      <th>3</th>\n",
       "      <td>-0.018147</td>\n",
       "      <td>-1.040206</td>\n",
       "      <td>-1.517338</td>\n",
       "      <td>-0.659775</td>\n",
       "    </tr>\n",
       "    <tr>\n",
       "      <th>4</th>\n",
       "      <td>0.626368</td>\n",
       "      <td>0.256631</td>\n",
       "      <td>-0.541344</td>\n",
       "      <td>-0.287878</td>\n",
       "    </tr>\n",
       "    <tr>\n",
       "      <th>...</th>\n",
       "      <td>...</td>\n",
       "      <td>...</td>\n",
       "      <td>...</td>\n",
       "      <td>...</td>\n",
       "    </tr>\n",
       "    <tr>\n",
       "      <th>3577</th>\n",
       "      <td>-0.018147</td>\n",
       "      <td>0.544817</td>\n",
       "      <td>0.271984</td>\n",
       "      <td>-0.783741</td>\n",
       "    </tr>\n",
       "    <tr>\n",
       "      <th>3578</th>\n",
       "      <td>-0.447824</td>\n",
       "      <td>0.688910</td>\n",
       "      <td>1.247977</td>\n",
       "      <td>0.207986</td>\n",
       "    </tr>\n",
       "    <tr>\n",
       "      <th>3579</th>\n",
       "      <td>0.196691</td>\n",
       "      <td>0.112538</td>\n",
       "      <td>-0.704010</td>\n",
       "      <td>-0.163912</td>\n",
       "    </tr>\n",
       "    <tr>\n",
       "      <th>3580</th>\n",
       "      <td>0.196691</td>\n",
       "      <td>-0.607927</td>\n",
       "      <td>-1.029341</td>\n",
       "      <td>-0.907706</td>\n",
       "    </tr>\n",
       "    <tr>\n",
       "      <th>3581</th>\n",
       "      <td>0.196691</td>\n",
       "      <td>-0.319741</td>\n",
       "      <td>-1.029341</td>\n",
       "      <td>-0.287878</td>\n",
       "    </tr>\n",
       "  </tbody>\n",
       "</table>\n",
       "<p>3582 rows × 4 columns</p>\n",
       "</div>"
      ],
      "text/plain": [
       "           Age   Overall  Potential  Jersey Number\n",
       "0     0.411530 -0.607927  -1.517338      -0.969689\n",
       "1     0.411530  1.265282   0.597315      -0.597792\n",
       "2     1.700560  0.833003   0.109318      -0.969689\n",
       "3    -0.018147 -1.040206  -1.517338      -0.659775\n",
       "4     0.626368  0.256631  -0.541344      -0.287878\n",
       "...        ...       ...        ...            ...\n",
       "3577 -0.018147  0.544817   0.271984      -0.783741\n",
       "3578 -0.447824  0.688910   1.247977       0.207986\n",
       "3579  0.196691  0.112538  -0.704010      -0.163912\n",
       "3580  0.196691 -0.607927  -1.029341      -0.907706\n",
       "3581  0.196691 -0.319741  -1.029341      -0.287878\n",
       "\n",
       "[3582 rows x 4 columns]"
      ]
     },
     "execution_count": 150,
     "metadata": {},
     "output_type": "execute_result"
    }
   ],
   "source": [
    "pd.DataFrame(columns = X_test.columns, data = norm.transform(X_test))"
   ]
  },
  {
   "cell_type": "markdown",
   "metadata": {},
   "source": [
    "# tasks"
   ]
  },
  {
   "cell_type": "markdown",
   "metadata": {},
   "source": [
    "###### try applying this scalers to any dataset and check the regression results"
   ]
  },
  {
   "cell_type": "code",
   "execution_count": 93,
   "metadata": {},
   "outputs": [
    {
     "name": "stdout",
     "output_type": "stream",
     "text": [
      "[2 7]\n",
      "[5.78378378 4.62162162]\n",
      "3.081081081081081\n",
      "9.986851716581448\n",
      "3.1601980502148037\n",
      "-0.5978962746530316\n",
      "minmax\n",
      "[[0.125]\n",
      " [0.75 ]]\n",
      "[[0.59797297]\n",
      " [0.4527027 ]]\n",
      "0.38513513513513514\n",
      "0.15604455807158513\n",
      "0.39502475627685046\n",
      "-0.5978962746530316\n",
      "std\n",
      "[[-1.0440738]\n",
      " [ 0.8542422]]\n",
      "[[ 0.39248966]\n",
      " [-0.04874055]]\n",
      "1.1697730974679448\n",
      "1.4395461933811096\n",
      "1.1998108990091354\n",
      "-0.597896274653031\n"
     ]
    }
   ],
   "source": [
    "from sklearn.metrics import mean_squared_error, mean_absolute_error, r2_score\n",
    "arrx=np.array([[1],[2],[3],[4],[5],[6],[7],[8],[9],[10]])\n",
    "arry=np.array([1,2,3,4,5,6,7,8,1,2])\n",
    "\n",
    "X_train, X_test, Y_train, Y_test = train_test_split(arrx, arry, test_size=0.2)\n",
    "lm = linear_model.LinearRegression()\n",
    "\n",
    "model = lm.fit(X_train, Y_train)\n",
    "\n",
    "\n",
    "predictions = lm.predict(X_test)\n",
    "\n",
    "mae=mean_absolute_error(Y_test, predictions)\n",
    "mse=mean_squared_error(Y_test, predictions)\n",
    "rmse=np.sqrt(mean_squared_error(Y_test, predictions))\n",
    "rse=r2_score(Y_test, predictions)\n",
    "\n",
    "print(Y_test)\n",
    "print (predictions)\n",
    "print(mae)\n",
    "print(mse)\n",
    "print(rmse)\n",
    "print(rse)\n",
    "\n",
    "\n",
    "norm = MinMaxScaler().fit(X_train)\n",
    "X_train = norm.transform(X_train)\n",
    "Y_train = norm.transform(Y_train.reshape(-1,1))\n",
    "X_test = norm.transform(X_test)\n",
    "Y_test = norm.transform(Y_test.reshape(-1,1))\n",
    "\n",
    "model = lm.fit(X_train, Y_train)\n",
    "\n",
    "\n",
    "predictions = lm.predict(X_test)\n",
    "\n",
    "mae=mean_absolute_error(Y_test, predictions)\n",
    "mse=mean_squared_error(Y_test, predictions)\n",
    "rmse=np.sqrt(mean_squared_error(Y_test, predictions))\n",
    "rse=r2_score(Y_test, predictions)\n",
    "\n",
    "\n",
    "print('minmax')\n",
    "print(Y_test)\n",
    "print (predictions)\n",
    "print(mae)\n",
    "print(mse)\n",
    "print(rmse)\n",
    "print(rse)\n",
    "\n",
    "norm = StandardScaler().fit(X_train)\n",
    "X_train = norm.transform(X_train)\n",
    "Y_train = norm.transform(Y_train.reshape(-1,1))\n",
    "X_test = norm.transform(X_test)\n",
    "Y_test = norm.transform(Y_test.reshape(-1,1))\n",
    "\n",
    "model = lm.fit(X_train, Y_train)\n",
    "\n",
    "\n",
    "predictions = lm.predict(X_test)\n",
    "\n",
    "mae=mean_absolute_error(Y_test, predictions)\n",
    "mse=mean_squared_error(Y_test, predictions)\n",
    "rmse=np.sqrt(mean_squared_error(Y_test, predictions))\n",
    "rse=r2_score(Y_test, predictions)\n",
    "\n",
    "\n",
    "print('std')\n",
    "print(Y_test)\n",
    "print (predictions)\n",
    "print(mae)\n",
    "print(mse)\n",
    "print(rmse)\n",
    "print(rse)\n"
   ]
  },
  {
   "cell_type": "markdown",
   "metadata": {},
   "source": [
    "# One Hot Encoding"
   ]
  },
  {
   "cell_type": "code",
   "execution_count": 6,
   "metadata": {},
   "outputs": [],
   "source": [
    "data = pd.read_csv('regression.csv')"
   ]
  },
  {
   "cell_type": "code",
   "execution_count": 7,
   "metadata": {},
   "outputs": [],
   "source": [
    "data1=pd.get_dummies(data[['Age', 'Club']])"
   ]
  },
  {
   "cell_type": "markdown",
   "metadata": {},
   "source": [
    "# tasks"
   ]
  },
  {
   "cell_type": "markdown",
   "metadata": {},
   "source": [
    "###### try applying this scalers to any column(s) and check the regression results"
   ]
  },
  {
   "cell_type": "code",
   "execution_count": 11,
   "metadata": {},
   "outputs": [
    {
     "name": "stdout",
     "output_type": "stream",
     "text": [
      "Cross-validated scores: [-3.15935957e-01 -3.96001045e+02]\n",
      "Mean squared error 47751892564275.34\n",
      "Cross-validated scores: [-6.49596230e+17 -2.48896252e+22]\n",
      "Mean squared error 7.509524074852023e+32\n"
     ]
    }
   ],
   "source": [
    "from sklearn.model_selection import cross_val_score, cross_val_predict\n",
    "\n",
    "y=data['Value']\n",
    "lm = linear_model.LinearRegression()\n",
    "\n",
    "model = lm.fit(data1.Age.values.reshape(-1,1), y)\n",
    "\n",
    "scores = cross_val_score(model, data1.Age.values.reshape(-1,1), y, cv=2)\n",
    "\n",
    "pred=cross_val_predict(model, data1.Age.values.reshape(-1,1), y, cv=2)\n",
    "\n",
    "mse=mean_squared_error(y,pred)\n",
    "\n",
    "print ('Cross-validated scores:', scores)\n",
    "print('Mean squared error', mse)\n",
    "\n",
    "model = lm.fit(data1, y)\n",
    "\n",
    "scores1 = cross_val_score(model, data1, y, cv=2)\n",
    "pred=cross_val_predict(model, data1, y, cv=2)\n",
    "\n",
    "mse=mean_squared_error(y,pred)\n",
    "\n",
    "print ('Cross-validated scores:', scores1)\n",
    "print('Mean squared error', mse)"
   ]
  },
  {
   "cell_type": "code",
   "execution_count": null,
   "metadata": {},
   "outputs": [],
   "source": []
  }
 ],
 "metadata": {
  "kernelspec": {
   "display_name": "Python 3",
   "language": "python",
   "name": "python3"
  },
  "language_info": {
   "codemirror_mode": {
    "name": "ipython",
    "version": 3
   },
   "file_extension": ".py",
   "mimetype": "text/x-python",
   "name": "python",
   "nbconvert_exporter": "python",
   "pygments_lexer": "ipython3",
   "version": "3.7.6"
  }
 },
 "nbformat": 4,
 "nbformat_minor": 4
}
