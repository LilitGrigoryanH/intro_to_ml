{
 "cells": [
  {
   "cell_type": "code",
   "execution_count": 11,
   "metadata": {},
   "outputs": [
    {
     "name": "stdout",
     "output_type": "stream",
     "text": [
      "Please put a string for checking 3\n",
      "Number of 3s = 3\n"
     ]
    }
   ],
   "source": [
    "list1=[1,2,3,4,5,8,2,3,3,6,4,4,4]\n",
    "istr=input(\"Please put a string for checking \")\n",
    "occur=str(list1).count(istr)\n",
    "print (\"Number of %ss = %s\" % (istr,occur))\n",
    "\n"
   ]
  },
  {
   "cell_type": "code",
   "execution_count": 22,
   "metadata": {},
   "outputs": [
    {
     "name": "stdout",
     "output_type": "stream",
     "text": [
      "(1, 2, 3, 4, 5, 6, 7, 8, 9)\n",
      "(1, 2, 3, 4, 'hello', 6, 7, 8, 9)\n"
     ]
    }
   ],
   "source": [
    "tup2=(1,2,3,4,5,6,7,8,9)\n",
    "print (tup2)\n",
    "tup2=tup2[:4]+('hello',)+tup2[5:]\n",
    "print (tup2)"
   ]
  },
  {
   "cell_type": "code",
   "execution_count": 34,
   "metadata": {},
   "outputs": [
    {
     "name": "stdout",
     "output_type": "stream",
     "text": [
      "Please insert weight 30\n"
     ]
    }
   ],
   "source": [
    "d={'name': 'Armen', 'age': 15, 'grades': [10, 8, 8, 4, 6, 7]} \n",
    "if 'weight'in d.keys(): \n",
    "    print (d['weight'])\n",
    "else:\n",
    "    istr=input('Please insert weight ')\n",
    "    d['weight']=int(istr)\n"
   ]
  },
  {
   "cell_type": "code",
   "execution_count": 36,
   "metadata": {},
   "outputs": [
    {
     "name": "stdout",
     "output_type": "stream",
     "text": [
      "Input the number 1\n",
      "Input the number 2\n",
      "Input the number 3\n",
      "Input the number 4\n",
      "Input the number 6\n",
      "Input the number 7\n",
      "Input the number 8\n",
      "Input the number 9\n",
      "Input the number 9\n",
      "Input the number 9\n",
      "9\n"
     ]
    }
   ],
   "source": [
    "correct_num = 5\n",
    "for i in range(10):\n",
    "    guess=int(input('Input the number '))\n",
    "    \n",
    "    if (correct_num==guess):\n",
    "        print (\"That was a good guess!\")\n",
    "        break\n",
    "\n"
   ]
  },
  {
   "cell_type": "code",
   "execution_count": 4,
   "metadata": {},
   "outputs": [
    {
     "name": "stdout",
     "output_type": "stream",
     "text": [
      "3\n"
     ]
    }
   ],
   "source": [
    "list1=['a', 'abc', 'xyz', 's', 'aba', '1221','545875']\n",
    "occur=[item for item in list1 if len(item)>1 and item[0]==item[-1]]\n",
    "print (len(occur))"
   ]
  },
  {
   "cell_type": "code",
   "execution_count": null,
   "metadata": {},
   "outputs": [],
   "source": []
  }
 ],
 "metadata": {
  "kernelspec": {
   "display_name": "Python 3",
   "language": "python",
   "name": "python3"
  },
  "language_info": {
   "codemirror_mode": {
    "name": "ipython",
    "version": 3
   },
   "file_extension": ".py",
   "mimetype": "text/x-python",
   "name": "python",
   "nbconvert_exporter": "python",
   "pygments_lexer": "ipython3",
   "version": "3.7.6"
  }
 },
 "nbformat": 4,
 "nbformat_minor": 4
}
