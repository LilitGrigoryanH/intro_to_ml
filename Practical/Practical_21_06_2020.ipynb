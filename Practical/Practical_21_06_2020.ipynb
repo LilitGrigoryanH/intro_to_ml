{
 "cells": [
  {
   "cell_type": "code",
   "execution_count": 2,
   "metadata": {},
   "outputs": [
    {
     "data": {
      "text/plain": [
       "2.0"
      ]
     },
     "execution_count": 2,
     "metadata": {},
     "output_type": "execute_result"
    }
   ],
   "source": [
    "def func(n1,n2,n3):\n",
    "    return ((n1+n2+n3)/3)\n",
    "func (1,2,3)"
   ]
  },
  {
   "cell_type": "code",
   "execution_count": 13,
   "metadata": {},
   "outputs": [],
   "source": [
    "def func (list1):\n",
    "    return (len([n for n in list1 if n%2==0]))"
   ]
  },
  {
   "cell_type": "code",
   "execution_count": 14,
   "metadata": {},
   "outputs": [
    {
     "data": {
      "text/plain": [
       "3"
      ]
     },
     "execution_count": 14,
     "metadata": {},
     "output_type": "execute_result"
    }
   ],
   "source": [
    "func ([1,2,2,4])"
   ]
  },
  {
   "cell_type": "code",
   "execution_count": 92,
   "metadata": {},
   "outputs": [],
   "source": [
    "def func(name,*args):\n",
    "    if len(args)>0:\n",
    "        l=[]\n",
    "        l=[i for i in args]\n",
    "        ag=sum(l)/len(l)\n",
    " \n",
    "        print ('\"%s your average grade is:%s\"' % (name, ag))\n",
    "    else:\n",
    "        print ('\"No grades available for %s\"' % name)\n",
    "  "
   ]
  },
  {
   "cell_type": "code",
   "execution_count": 94,
   "metadata": {},
   "outputs": [
    {
     "name": "stdout",
     "output_type": "stream",
     "text": [
      "\"No grades available for 123\"\n"
     ]
    }
   ],
   "source": [
    "func('123')"
   ]
  },
  {
   "cell_type": "code",
   "execution_count": 100,
   "metadata": {},
   "outputs": [],
   "source": [
    "class circle:\n",
    "    def __init__(self, radius, color):\n",
    "        self.radius = radius\n",
    "        self.color = color\n",
    "    def getDesc(self):\n",
    "        print ('\"A %s circle with radius %s\"' % (self.color,self.radius))"
   ]
  },
  {
   "cell_type": "code",
   "execution_count": 101,
   "metadata": {},
   "outputs": [
    {
     "name": "stdout",
     "output_type": "stream",
     "text": [
      "A blue circle with radius 10\n"
     ]
    }
   ],
   "source": [
    "c=circle(10,\"blue\")\n",
    "c.getDesc()"
   ]
  },
  {
   "cell_type": "code",
   "execution_count": 115,
   "metadata": {},
   "outputs": [],
   "source": [
    "class Employee:\n",
    "    def __init__(self, name, last_name, monthly_salary):\n",
    "        self.name=name\n",
    "        self.last_name=last_name\n",
    "        self.__monthly_salary = monthly_salary\n",
    "    \n",
    "    def getFullName(self):\n",
    "        return ('\"'+self.name+' '+self.last_name+'\"')\n",
    "    \n",
    "    def annualSalary(self):\n",
    "        if self.__monthly_salary>100:\n",
    "            return \"High\"\n",
    "        else:\n",
    "            return \"Low\"        \n",
    "        \n",
    "    "
   ]
  },
  {
   "cell_type": "code",
   "execution_count": 116,
   "metadata": {},
   "outputs": [
    {
     "name": "stdout",
     "output_type": "stream",
     "text": [
      "\"DDDD KKKK\"\n",
      "Low\n"
     ]
    }
   ],
   "source": [
    "empl=Employee('DDDD', 'KKKK',50)\n",
    "print (empl.getFullName())\n",
    "print (empl.annualSalary())"
   ]
  },
  {
   "cell_type": "code",
   "execution_count": 117,
   "metadata": {},
   "outputs": [],
   "source": [
    "class Car:\n",
    "    def __init__(self,model, color, max_speed):\n",
    "        self.model=model\n",
    "        self.color=color\n",
    "        self.max_speed=max_speed\n",
    "        \n",
    "    def compareCar(self, car2):\n",
    "        if self.max_speed>car2.max_speed:\n",
    "            return '\"car1 is better than car2\"'\n",
    "        else:\n",
    "            return '\"car2 is better than car1\"'"
   ]
  },
  {
   "cell_type": "code",
   "execution_count": 120,
   "metadata": {},
   "outputs": [
    {
     "name": "stdout",
     "output_type": "stream",
     "text": [
      "\"car2 is better than car1\"\n"
     ]
    }
   ],
   "source": [
    "car1=Car('Audi','Blue',200)\n",
    "car2=Car('Tesla','Blue',250)\n",
    "print (car1.compareCar(car2))"
   ]
  },
  {
   "cell_type": "code",
   "execution_count": 123,
   "metadata": {},
   "outputs": [],
   "source": [
    "class Animal:\n",
    "    def __init__(self,name):\n",
    "        self.name=name\n",
    "        \n",
    "    def move(self):\n",
    "        print(\"I can move.\")\n",
    "        \n",
    "class Dog (Animal):\n",
    "    def __init__(self):\n",
    "          Animal.__init__(self,'Dog')\n",
    "            \n",
    "    def move(self):\n",
    "        print (\"I can run really fast.\")\n",
    "    \n",
    "    "
   ]
  },
  {
   "cell_type": "code",
   "execution_count": 125,
   "metadata": {},
   "outputs": [
    {
     "name": "stdout",
     "output_type": "stream",
     "text": [
      "I can run really fast.\n"
     ]
    }
   ],
   "source": [
    "dg=Dog()\n",
    "dg.move()\n"
   ]
  },
  {
   "cell_type": "code",
   "execution_count": null,
   "metadata": {},
   "outputs": [],
   "source": []
  }
 ],
 "metadata": {
  "kernelspec": {
   "display_name": "Python 3",
   "language": "python",
   "name": "python3"
  },
  "language_info": {
   "codemirror_mode": {
    "name": "ipython",
    "version": 3
   },
   "file_extension": ".py",
   "mimetype": "text/x-python",
   "name": "python",
   "nbconvert_exporter": "python",
   "pygments_lexer": "ipython3",
   "version": "3.7.6"
  }
 },
 "nbformat": 4,
 "nbformat_minor": 4
}
