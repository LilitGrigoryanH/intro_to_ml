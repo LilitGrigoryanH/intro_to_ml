{
 "cells": [
  {
   "cell_type": "code",
   "execution_count": 11,
   "metadata": {},
   "outputs": [
    {
     "name": "stdout",
     "output_type": "stream",
     "text": [
      "['hello', 1, True]\n",
      "Add values with one spacered green\n",
      "red green\n",
      "['red', 'green']\n",
      "['hello', 1, True, 'red', 'green']\n"
     ]
    }
   ],
   "source": [
    "list1=[\"hello\", 1, True]\n",
    "print (list1)\n",
    "istr=input(\"Add values with one space \")\n",
    "\n",
    "list3=list(istr.split(\" \"))\n",
    "\n",
    "list1.extend(list3)\n",
    "print (list1)"
   ]
  },
  {
   "cell_type": "code",
   "execution_count": 2,
   "metadata": {},
   "outputs": [
    {
     "name": "stdout",
     "output_type": "stream",
     "text": [
      "['red', 'green', 'blue', 'white', 'black', 'yellow']\n",
      "['green', 'blue', 'white']\n"
     ]
    }
   ],
   "source": [
    "list2=['red', 'green','blue','white', 'black','yellow']\n",
    "print (list2)\n",
    "list2.pop(0)\n",
    "list2.pop(4-1)\n",
    "list2.pop(5-1-1)\n",
    "\n",
    "print (list2)\n"
   ]
  },
  {
   "cell_type": "code",
   "execution_count": 36,
   "metadata": {},
   "outputs": [
    {
     "name": "stdout",
     "output_type": "stream",
     "text": [
      "Please type a number -9\n",
      "{1, 3, 5, 6, 8, 9, 10, 14}\n",
      "False\n"
     ]
    }
   ],
   "source": [
    "set1={1,3,5,6,10,14,9,8}\n",
    "num=input(\"Please input a number \")\n",
    "num=int(num)\n",
    "print (set1)\n",
    "if (num>min(set1) and num<max(set1)):\n",
    "    print('True')\n",
    "else:\n",
    "    print ('False')\n",
    "\n"
   ]
  },
  {
   "cell_type": "code",
   "execution_count": 41,
   "metadata": {},
   "outputs": [
    {
     "name": "stdout",
     "output_type": "stream",
     "text": [
      "Please input a key, space and a value 4 white\n",
      "{'1': 'red', '2': 'green', '3': 'blue', '4': 'white'}\n"
     ]
    }
   ],
   "source": [
    "dict1={'1':'red','2':'green','3':'blue'}\n",
    "str0=input(\"Please input a key, space and a value \")\n",
    "str1=str0.split(\" \")\n",
    "dict1[str1[0]]=str1[1]\n",
    "print (dict1)\n"
   ]
  },
  {
   "cell_type": "code",
   "execution_count": 44,
   "metadata": {},
   "outputs": [
    {
     "name": "stdout",
     "output_type": "stream",
     "text": [
      "Square\n"
     ]
    }
   ],
   "source": [
    "a=10\n",
    "b=10\n",
    "if a==b:\n",
    "    print('Square')\n",
    "else:\n",
    "    print('Rectangle')"
   ]
  },
  {
   "cell_type": "code",
   "execution_count": 5,
   "metadata": {},
   "outputs": [
    {
     "name": "stdout",
     "output_type": "stream",
     "text": [
      "Please enter a different password\n"
     ]
    }
   ],
   "source": [
    "name='Arev'\n",
    "age=18\n",
    "password='Try again'\n",
    "\n",
    "if name=='Batman':\n",
    "    print ('Welcome Mr. Batman!')\n",
    "elif age<16:\n",
    "    print ('Dear %s, you are too young to register' % name)\n",
    "elif not('*'in password or '&' in password):\n",
    "    print ('Please enter a different password')\n",
    "\n"
   ]
  },
  {
   "cell_type": "code",
   "execution_count": 8,
   "metadata": {},
   "outputs": [
    {
     "name": "stdout",
     "output_type": "stream",
     "text": [
      "1\n",
      "3\n",
      "5\n",
      "7\n",
      "9\n",
      "11\n",
      "13\n",
      "15\n",
      "17\n",
      "19\n",
      "21\n",
      "23\n",
      "25\n",
      "27\n",
      "29\n",
      "31\n",
      "33\n",
      "35\n",
      "37\n",
      "39\n",
      "41\n",
      "43\n",
      "45\n",
      "47\n",
      "49\n",
      "51\n",
      "53\n",
      "55\n",
      "57\n",
      "59\n",
      "61\n",
      "63\n",
      "65\n",
      "67\n",
      "69\n",
      "71\n",
      "73\n",
      "75\n",
      "77\n",
      "79\n",
      "81\n",
      "83\n",
      "85\n",
      "87\n",
      "89\n",
      "91\n",
      "93\n",
      "95\n",
      "97\n",
      "99\n"
     ]
    }
   ],
   "source": [
    "for i in range(100):\n",
    " if i%2!=0:\n",
    "    print (i)\n"
   ]
  },
  {
   "cell_type": "code",
   "execution_count": 10,
   "metadata": {},
   "outputs": [
    {
     "name": "stdout",
     "output_type": "stream",
     "text": [
      "1\n",
      "2\n",
      "3\n",
      "4\n",
      "5\n",
      "6\n",
      "7\n",
      "8\n",
      "9\n",
      "10\n",
      "11\n",
      "12\n",
      "13\n",
      "14\n"
     ]
    }
   ],
   "source": [
    "for n in range(1,20):\n",
    "    if n%3==0 and n%5==0:\n",
    "        break\n"
   ]
  },
  {
   "cell_type": "code",
   "execution_count": 21,
   "metadata": {},
   "outputs": [
    {
     "name": "stdout",
     "output_type": "stream",
     "text": [
      "[1, 2, 6, 7, 2, 5, 1, 25, 22]\n",
      "[25, 22]\n"
     ]
    }
   ],
   "source": [
    "list1=[1,2,6,7,2,5,1,25,22]\n",
    "list2=[i for i in list1 if i>20]\n",
    "print (list1)\n",
    "print (list2)"
   ]
  }
 ],
 "metadata": {
  "kernelspec": {
   "display_name": "Python 3",
   "language": "python",
   "name": "python3"
  },
  "language_info": {
   "codemirror_mode": {
    "name": "ipython",
    "version": 3
   },
   "file_extension": ".py",
   "mimetype": "text/x-python",
   "name": "python",
   "nbconvert_exporter": "python",
   "pygments_lexer": "ipython3",
   "version": "3.7.6"
  }
 },
 "nbformat": 4,
 "nbformat_minor": 4
}
